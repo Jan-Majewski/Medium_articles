{
 "cells": [
  {
   "cell_type": "code",
   "execution_count": 26,
   "metadata": {},
   "outputs": [],
   "source": [
    "import sqlalchemy\n",
    "import pandas as pd"
   ]
  },
  {
   "cell_type": "code",
   "execution_count": 138,
   "metadata": {},
   "outputs": [],
   "source": [
    "from sqlalchemy_utils.functions import database_exists, create_database"
   ]
  },
  {
   "cell_type": "markdown",
   "metadata": {},
   "source": [
    "# Connecting to AWS Database"
   ]
  },
  {
   "cell_type": "code",
   "execution_count": 111,
   "metadata": {},
   "outputs": [],
   "source": [
    "# Defining key parameters for connection to database\n",
    "host=\"sqlalchemytutorial.******.eu-central-1.rds.amazonaws.com\"\n",
    "port=3306\n",
    "dbname=\"TUTORIAL\"\n",
    "user=\"admin\"\n",
    "password=\"Baloney1\" #now they make you add numbers..."
   ]
  },
  {
   "cell_type": "code",
   "execution_count": 24,
   "metadata": {},
   "outputs": [],
   "source": [
    "# Connecting to database\n",
    "database_connection = sqlalchemy.create_engine('mysql+mysqlconnector://{0}:{1}@{2}/{3}'\n",
    "            .format(user, password,host, dbname)).connect()"
   ]
  },
  {
   "cell_type": "markdown",
   "metadata": {},
   "source": [
    "# Preparing csv data for Relational Database"
   ]
  },
  {
   "cell_type": "code",
   "execution_count": 119,
   "metadata": {},
   "outputs": [],
   "source": [
    "# Reading data to be saved in DB\n",
    "data = pd.read_csv(r\"https://raw.githubusercontent.com/Jan-Majewski/Medium_articles/master/02_AWS_RDS_with_SQLAlchemy/London_property_data.csv\")"
   ]
  },
  {
   "cell_type": "code",
   "execution_count": 140,
   "metadata": {},
   "outputs": [],
   "source": [
    "data=pd.read_csv('London_property_data.csv')"
   ]
  },
  {
   "cell_type": "code",
   "execution_count": 142,
   "metadata": {},
   "outputs": [
    {
     "name": "stdout",
     "output_type": "stream",
     "text": [
      "<class 'pandas.core.frame.DataFrame'>\n",
      "RangeIndex: 1035 entries, 0 to 1034\n",
      "Data columns (total 10 columns):\n",
      " #   Column         Non-Null Count  Dtype  \n",
      "---  ------         --------------  -----  \n",
      " 0   id             1035 non-null   int64  \n",
      " 1   MonthlyPrice   1034 non-null   float64\n",
      " 2   Currency       1035 non-null   object \n",
      " 3   bedrooms       486 non-null    float64\n",
      " 4   bathrooms      788 non-null    float64\n",
      " 5   latitude       1035 non-null   float64\n",
      " 6   longitude      1035 non-null   float64\n",
      " 7   download_time  1035 non-null   object \n",
      " 8   City           1035 non-null   object \n",
      " 9   Country        1035 non-null   object \n",
      "dtypes: float64(5), int64(1), object(4)\n",
      "memory usage: 81.0+ KB\n"
     ]
    }
   ],
   "source": [
    "# Making sure that id is int\n",
    "data.info()"
   ]
  },
  {
   "cell_type": "code",
   "execution_count": 144,
   "metadata": {},
   "outputs": [
    {
     "data": {
      "text/plain": [
       "Index(['id', 'MonthlyPrice', 'Currency', 'bedrooms', 'bathrooms', 'latitude',\n",
       "       'longitude', 'download_time', 'City', 'Country'],\n",
       "      dtype='object')"
      ]
     },
     "execution_count": 144,
     "metadata": {},
     "output_type": "execute_result"
    }
   ],
   "source": [
    "data.columns"
   ]
  },
  {
   "cell_type": "code",
   "execution_count": 145,
   "metadata": {},
   "outputs": [],
   "source": [
    "# Choosing features for each of 3 tables - remember to have id in each to make joining possible\n",
    "property_features=['id','bedrooms', 'bathrooms']\n",
    "location_features=['id','latitude','longitude','City', 'Country']\n",
    "price_features=['id', 'MonthlyPrice','download_time']"
   ]
  },
  {
   "cell_type": "code",
   "execution_count": 146,
   "metadata": {},
   "outputs": [],
   "source": [
    "table_properties=data[property_features]\n",
    "table_locations=data[location_features]\n",
    "table_prices=data[price_features]"
   ]
  },
  {
   "cell_type": "code",
   "execution_count": 147,
   "metadata": {},
   "outputs": [
    {
     "data": {
      "text/html": [
       "<div>\n",
       "<style scoped>\n",
       "    .dataframe tbody tr th:only-of-type {\n",
       "        vertical-align: middle;\n",
       "    }\n",
       "\n",
       "    .dataframe tbody tr th {\n",
       "        vertical-align: top;\n",
       "    }\n",
       "\n",
       "    .dataframe thead th {\n",
       "        text-align: right;\n",
       "    }\n",
       "</style>\n",
       "<table border=\"1\" class=\"dataframe\">\n",
       "  <thead>\n",
       "    <tr style=\"text-align: right;\">\n",
       "      <th></th>\n",
       "      <th>id</th>\n",
       "      <th>bedrooms</th>\n",
       "      <th>bathrooms</th>\n",
       "    </tr>\n",
       "  </thead>\n",
       "  <tbody>\n",
       "    <tr>\n",
       "      <th>0</th>\n",
       "      <td>87559256</td>\n",
       "      <td>1.0</td>\n",
       "      <td>1.0</td>\n",
       "    </tr>\n",
       "    <tr>\n",
       "      <th>1</th>\n",
       "      <td>72990621</td>\n",
       "      <td>1.0</td>\n",
       "      <td>1.0</td>\n",
       "    </tr>\n",
       "    <tr>\n",
       "      <th>2</th>\n",
       "      <td>70875120</td>\n",
       "      <td>3.0</td>\n",
       "      <td>1.0</td>\n",
       "    </tr>\n",
       "    <tr>\n",
       "      <th>3</th>\n",
       "      <td>83795935</td>\n",
       "      <td>NaN</td>\n",
       "      <td>1.0</td>\n",
       "    </tr>\n",
       "    <tr>\n",
       "      <th>4</th>\n",
       "      <td>72973739</td>\n",
       "      <td>NaN</td>\n",
       "      <td>NaN</td>\n",
       "    </tr>\n",
       "  </tbody>\n",
       "</table>\n",
       "</div>"
      ],
      "text/plain": [
       "         id  bedrooms  bathrooms\n",
       "0  87559256       1.0        1.0\n",
       "1  72990621       1.0        1.0\n",
       "2  70875120       3.0        1.0\n",
       "3  83795935       NaN        1.0\n",
       "4  72973739       NaN        NaN"
      ]
     },
     "execution_count": 147,
     "metadata": {},
     "output_type": "execute_result"
    }
   ],
   "source": [
    "table_properties.head()"
   ]
  },
  {
   "cell_type": "code",
   "execution_count": 148,
   "metadata": {},
   "outputs": [
    {
     "data": {
      "text/html": [
       "<div>\n",
       "<style scoped>\n",
       "    .dataframe tbody tr th:only-of-type {\n",
       "        vertical-align: middle;\n",
       "    }\n",
       "\n",
       "    .dataframe tbody tr th {\n",
       "        vertical-align: top;\n",
       "    }\n",
       "\n",
       "    .dataframe thead th {\n",
       "        text-align: right;\n",
       "    }\n",
       "</style>\n",
       "<table border=\"1\" class=\"dataframe\">\n",
       "  <thead>\n",
       "    <tr style=\"text-align: right;\">\n",
       "      <th></th>\n",
       "      <th>id</th>\n",
       "      <th>latitude</th>\n",
       "      <th>longitude</th>\n",
       "      <th>City</th>\n",
       "      <th>Country</th>\n",
       "    </tr>\n",
       "  </thead>\n",
       "  <tbody>\n",
       "    <tr>\n",
       "      <th>0</th>\n",
       "      <td>87559256</td>\n",
       "      <td>51.424110</td>\n",
       "      <td>-0.054950</td>\n",
       "      <td>London</td>\n",
       "      <td>UK</td>\n",
       "    </tr>\n",
       "    <tr>\n",
       "      <th>1</th>\n",
       "      <td>72990621</td>\n",
       "      <td>51.534100</td>\n",
       "      <td>-0.201950</td>\n",
       "      <td>London</td>\n",
       "      <td>UK</td>\n",
       "    </tr>\n",
       "    <tr>\n",
       "      <th>2</th>\n",
       "      <td>70875120</td>\n",
       "      <td>51.525940</td>\n",
       "      <td>-0.162630</td>\n",
       "      <td>London</td>\n",
       "      <td>UK</td>\n",
       "    </tr>\n",
       "    <tr>\n",
       "      <th>3</th>\n",
       "      <td>83795935</td>\n",
       "      <td>51.456526</td>\n",
       "      <td>-0.200109</td>\n",
       "      <td>London</td>\n",
       "      <td>UK</td>\n",
       "    </tr>\n",
       "    <tr>\n",
       "      <th>4</th>\n",
       "      <td>72973739</td>\n",
       "      <td>51.549730</td>\n",
       "      <td>-0.183310</td>\n",
       "      <td>London</td>\n",
       "      <td>UK</td>\n",
       "    </tr>\n",
       "  </tbody>\n",
       "</table>\n",
       "</div>"
      ],
      "text/plain": [
       "         id   latitude  longitude    City Country\n",
       "0  87559256  51.424110  -0.054950  London      UK\n",
       "1  72990621  51.534100  -0.201950  London      UK\n",
       "2  70875120  51.525940  -0.162630  London      UK\n",
       "3  83795935  51.456526  -0.200109  London      UK\n",
       "4  72973739  51.549730  -0.183310  London      UK"
      ]
     },
     "execution_count": 148,
     "metadata": {},
     "output_type": "execute_result"
    }
   ],
   "source": [
    "table_locations.head()"
   ]
  },
  {
   "cell_type": "code",
   "execution_count": 149,
   "metadata": {},
   "outputs": [
    {
     "data": {
      "text/html": [
       "<div>\n",
       "<style scoped>\n",
       "    .dataframe tbody tr th:only-of-type {\n",
       "        vertical-align: middle;\n",
       "    }\n",
       "\n",
       "    .dataframe tbody tr th {\n",
       "        vertical-align: top;\n",
       "    }\n",
       "\n",
       "    .dataframe thead th {\n",
       "        text-align: right;\n",
       "    }\n",
       "</style>\n",
       "<table border=\"1\" class=\"dataframe\">\n",
       "  <thead>\n",
       "    <tr style=\"text-align: right;\">\n",
       "      <th></th>\n",
       "      <th>id</th>\n",
       "      <th>MonthlyPrice</th>\n",
       "      <th>download_time</th>\n",
       "    </tr>\n",
       "  </thead>\n",
       "  <tbody>\n",
       "    <tr>\n",
       "      <th>0</th>\n",
       "      <td>87559256</td>\n",
       "      <td>1000.0</td>\n",
       "      <td>2020-10-04 12:09:00.062859</td>\n",
       "    </tr>\n",
       "    <tr>\n",
       "      <th>1</th>\n",
       "      <td>72990621</td>\n",
       "      <td>1000.0</td>\n",
       "      <td>2020-10-04 12:09:00.062859</td>\n",
       "    </tr>\n",
       "    <tr>\n",
       "      <th>2</th>\n",
       "      <td>70875120</td>\n",
       "      <td>1057.0</td>\n",
       "      <td>2020-10-04 12:09:00.062859</td>\n",
       "    </tr>\n",
       "    <tr>\n",
       "      <th>3</th>\n",
       "      <td>83795935</td>\n",
       "      <td>1000.0</td>\n",
       "      <td>2020-10-04 12:09:00.062859</td>\n",
       "    </tr>\n",
       "    <tr>\n",
       "      <th>4</th>\n",
       "      <td>72973739</td>\n",
       "      <td>1040.0</td>\n",
       "      <td>2020-10-04 12:09:00.062859</td>\n",
       "    </tr>\n",
       "  </tbody>\n",
       "</table>\n",
       "</div>"
      ],
      "text/plain": [
       "         id  MonthlyPrice               download_time\n",
       "0  87559256        1000.0  2020-10-04 12:09:00.062859\n",
       "1  72990621        1000.0  2020-10-04 12:09:00.062859\n",
       "2  70875120        1057.0  2020-10-04 12:09:00.062859\n",
       "3  83795935        1000.0  2020-10-04 12:09:00.062859\n",
       "4  72973739        1040.0  2020-10-04 12:09:00.062859"
      ]
     },
     "execution_count": 149,
     "metadata": {},
     "output_type": "execute_result"
    }
   ],
   "source": [
    "table_prices.head()"
   ]
  },
  {
   "cell_type": "markdown",
   "metadata": {},
   "source": [
    "# Writing data to database"
   ]
  },
  {
   "cell_type": "code",
   "execution_count": 130,
   "metadata": {},
   "outputs": [],
   "source": [
    "# Write data into 3 separate tables\n",
    "table_property.to_sql(con=database_connection, name=\"PROPERTIES\", if_exists='replace',chunksize=100, index=False)\n",
    "table_location.to_sql(con=database_connection, name=\"LOCATIONS\", if_exists='replace',chunksize=100, index=False)\n",
    "table_prices.to_sql(con=database_connection, name=\"PRICES\", if_exists='replace',chunksize=100, index=False)"
   ]
  },
  {
   "cell_type": "markdown",
   "metadata": {},
   "source": [
    "# Querying data with SQL"
   ]
  },
  {
   "cell_type": "code",
   "execution_count": 132,
   "metadata": {},
   "outputs": [],
   "source": [
    "# Creating SQL query to use together with database_connection in next line\n",
    "\n",
    "sql_query='''\n",
    "SELECT * FROM PRICES a\n",
    "JOIN LOCATIONS b\n",
    "ON a.id=b.id\n",
    "JOIN PROPERTIES c\n",
    "ON a.id=c.id\n",
    "'''"
   ]
  },
  {
   "cell_type": "code",
   "execution_count": 133,
   "metadata": {},
   "outputs": [],
   "source": [
    "property_data=pd.read_sql(sql_query,con=database_connection)"
   ]
  },
  {
   "cell_type": "code",
   "execution_count": 134,
   "metadata": {},
   "outputs": [
    {
     "data": {
      "text/html": [
       "<div>\n",
       "<style scoped>\n",
       "    .dataframe tbody tr th:only-of-type {\n",
       "        vertical-align: middle;\n",
       "    }\n",
       "\n",
       "    .dataframe tbody tr th {\n",
       "        vertical-align: top;\n",
       "    }\n",
       "\n",
       "    .dataframe thead th {\n",
       "        text-align: right;\n",
       "    }\n",
       "</style>\n",
       "<table border=\"1\" class=\"dataframe\">\n",
       "  <thead>\n",
       "    <tr style=\"text-align: right;\">\n",
       "      <th></th>\n",
       "      <th>id</th>\n",
       "      <th>MonthlyPrice</th>\n",
       "      <th>download_time</th>\n",
       "      <th>id</th>\n",
       "      <th>latitude</th>\n",
       "      <th>longitude</th>\n",
       "      <th>City</th>\n",
       "      <th>Conutry</th>\n",
       "      <th>id</th>\n",
       "      <th>bedrooms</th>\n",
       "      <th>bathrooms</th>\n",
       "    </tr>\n",
       "  </thead>\n",
       "  <tbody>\n",
       "    <tr>\n",
       "      <th>0</th>\n",
       "      <td>87559256</td>\n",
       "      <td>1000.0</td>\n",
       "      <td>2020-10-04 12:09:00.062859</td>\n",
       "      <td>87559256</td>\n",
       "      <td>51.424110</td>\n",
       "      <td>-0.054950</td>\n",
       "      <td>London</td>\n",
       "      <td>UK</td>\n",
       "      <td>87559256</td>\n",
       "      <td>1.0</td>\n",
       "      <td>1.0</td>\n",
       "    </tr>\n",
       "    <tr>\n",
       "      <th>1</th>\n",
       "      <td>72990621</td>\n",
       "      <td>1000.0</td>\n",
       "      <td>2020-10-04 12:09:00.062859</td>\n",
       "      <td>72990621</td>\n",
       "      <td>51.534100</td>\n",
       "      <td>-0.201950</td>\n",
       "      <td>London</td>\n",
       "      <td>UK</td>\n",
       "      <td>72990621</td>\n",
       "      <td>1.0</td>\n",
       "      <td>1.0</td>\n",
       "    </tr>\n",
       "    <tr>\n",
       "      <th>2</th>\n",
       "      <td>70875120</td>\n",
       "      <td>1057.0</td>\n",
       "      <td>2020-10-04 12:09:00.062859</td>\n",
       "      <td>70875120</td>\n",
       "      <td>51.525940</td>\n",
       "      <td>-0.162630</td>\n",
       "      <td>London</td>\n",
       "      <td>UK</td>\n",
       "      <td>70875120</td>\n",
       "      <td>3.0</td>\n",
       "      <td>1.0</td>\n",
       "    </tr>\n",
       "    <tr>\n",
       "      <th>3</th>\n",
       "      <td>83795935</td>\n",
       "      <td>1000.0</td>\n",
       "      <td>2020-10-04 12:09:00.062859</td>\n",
       "      <td>83795935</td>\n",
       "      <td>51.456526</td>\n",
       "      <td>-0.200109</td>\n",
       "      <td>London</td>\n",
       "      <td>UK</td>\n",
       "      <td>83795935</td>\n",
       "      <td>NaN</td>\n",
       "      <td>1.0</td>\n",
       "    </tr>\n",
       "    <tr>\n",
       "      <th>4</th>\n",
       "      <td>72973739</td>\n",
       "      <td>1040.0</td>\n",
       "      <td>2020-10-04 12:09:00.062859</td>\n",
       "      <td>72973739</td>\n",
       "      <td>51.549730</td>\n",
       "      <td>-0.183310</td>\n",
       "      <td>London</td>\n",
       "      <td>UK</td>\n",
       "      <td>72973739</td>\n",
       "      <td>NaN</td>\n",
       "      <td>NaN</td>\n",
       "    </tr>\n",
       "  </tbody>\n",
       "</table>\n",
       "</div>"
      ],
      "text/plain": [
       "         id  MonthlyPrice               download_time        id   latitude  \\\n",
       "0  87559256        1000.0  2020-10-04 12:09:00.062859  87559256  51.424110   \n",
       "1  72990621        1000.0  2020-10-04 12:09:00.062859  72990621  51.534100   \n",
       "2  70875120        1057.0  2020-10-04 12:09:00.062859  70875120  51.525940   \n",
       "3  83795935        1000.0  2020-10-04 12:09:00.062859  83795935  51.456526   \n",
       "4  72973739        1040.0  2020-10-04 12:09:00.062859  72973739  51.549730   \n",
       "\n",
       "   longitude    City Conutry        id  bedrooms  bathrooms  \n",
       "0  -0.054950  London      UK  87559256       1.0        1.0  \n",
       "1  -0.201950  London      UK  72990621       1.0        1.0  \n",
       "2  -0.162630  London      UK  70875120       3.0        1.0  \n",
       "3  -0.200109  London      UK  83795935       NaN        1.0  \n",
       "4  -0.183310  London      UK  72973739       NaN        NaN  "
      ]
     },
     "execution_count": 134,
     "metadata": {},
     "output_type": "execute_result"
    }
   ],
   "source": [
    "# Queried data in dataframe format\n",
    "property_data.head()"
   ]
  },
  {
   "cell_type": "code",
   "execution_count": 135,
   "metadata": {},
   "outputs": [
    {
     "data": {
      "text/plain": [
       "(1035, 11)"
      ]
     },
     "execution_count": 135,
     "metadata": {},
     "output_type": "execute_result"
    }
   ],
   "source": [
    "property_data.shape"
   ]
  },
  {
   "cell_type": "markdown",
   "metadata": {},
   "source": [
    "# Creating new schema"
   ]
  },
  {
   "cell_type": "code",
   "execution_count": 22,
   "metadata": {},
   "outputs": [],
   "source": [
    "#Creating a new schema for Advanced tutorial with use of sqlalchemy_utils.functions\n",
    "\n",
    "dbname_2='TUTORIAL_ADVANCED'\n",
    "database_connection_2 = 'mysql+mysqlconnector://{0}:{1}@{2}/{3}'.format(user, password,host, dbname_2)\n",
    "\n",
    "if not database_exists(database_connection_2):\n",
    "    create_database(database_connection_2)"
   ]
  },
  {
   "cell_type": "code",
   "execution_count": null,
   "metadata": {},
   "outputs": [],
   "source": []
  }
 ],
 "metadata": {
  "kernelspec": {
   "display_name": "Python 3",
   "language": "python",
   "name": "python3"
  },
  "language_info": {
   "codemirror_mode": {
    "name": "ipython",
    "version": 3
   },
   "file_extension": ".py",
   "mimetype": "text/x-python",
   "name": "python",
   "nbconvert_exporter": "python",
   "pygments_lexer": "ipython3",
   "version": "3.7.3"
  },
  "toc": {
   "base_numbering": 1,
   "nav_menu": {},
   "number_sections": true,
   "sideBar": true,
   "skip_h1_title": false,
   "title_cell": "Table of Contents",
   "title_sidebar": "Contents",
   "toc_cell": false,
   "toc_position": {},
   "toc_section_display": true,
   "toc_window_display": true
  }
 },
 "nbformat": 4,
 "nbformat_minor": 2
}
