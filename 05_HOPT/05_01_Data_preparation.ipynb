{
 "cells": [
  {
   "cell_type": "code",
   "execution_count": 1,
   "metadata": {},
   "outputs": [],
   "source": [
    "import pandas as pd\n",
    "import numpy as np\n"
   ]
  },
  {
   "cell_type": "code",
   "execution_count": 2,
   "metadata": {},
   "outputs": [],
   "source": [
    "from sklearn.ensemble import RandomForestRegressor\n",
    "from sklearn.model_selection import train_test_split\n",
    "\n",
    "from sklearn.impute import SimpleImputer"
   ]
  },
  {
   "cell_type": "markdown",
   "metadata": {},
   "source": [
    "# Data input and transformation"
   ]
  },
  {
   "cell_type": "code",
   "execution_count": 130,
   "metadata": {},
   "outputs": [
    {
     "ename": "TypeError",
     "evalue": "parser_f() got an unexpected keyword argument 'index'",
     "output_type": "error",
     "traceback": [
      "\u001b[1;31m---------------------------------------------------------------------------\u001b[0m",
      "\u001b[1;31mTypeError\u001b[0m                                 Traceback (most recent call last)",
      "\u001b[1;32m<ipython-input-130-281facd5d629>\u001b[0m in \u001b[0;36m<module>\u001b[1;34m\u001b[0m\n\u001b[1;32m----> 1\u001b[1;33m \u001b[0mdf\u001b[0m \u001b[1;33m=\u001b[0m \u001b[0mpd\u001b[0m\u001b[1;33m.\u001b[0m\u001b[0mread_csv\u001b[0m\u001b[1;33m(\u001b[0m\u001b[1;34m\"data/German_rentals.csv\"\u001b[0m\u001b[1;33m,\u001b[0m \u001b[0mindex\u001b[0m\u001b[1;33m=\u001b[0m\u001b[1;32mFalse\u001b[0m\u001b[1;33m)\u001b[0m\u001b[1;33m\u001b[0m\u001b[1;33m\u001b[0m\u001b[0m\n\u001b[0m",
      "\u001b[1;31mTypeError\u001b[0m: parser_f() got an unexpected keyword argument 'index'"
     ]
    }
   ],
   "source": [
    "df = pd.read_csv(\"data/German_rentals.csv\")"
   ]
  },
  {
   "cell_type": "code",
   "execution_count": 4,
   "metadata": {},
   "outputs": [],
   "source": [
    "numerics = ['int16', 'int32', 'int64', 'float16', 'float32', 'float64']\n",
    "\n",
    "newdf = df.select_dtypes(include=numerics)"
   ]
  },
  {
   "cell_type": "code",
   "execution_count": 5,
   "metadata": {},
   "outputs": [],
   "source": [
    "num_cols_base = [\"baseRent\",\"serviceCharge\",'totalRent',\"heatingCosts\",\"floor\",\"numberOfFloors\",\"noRooms\",\"livingSpace\", \"yearConstructed\", \n",
    "           \"noParkSpaces\"]"
   ]
  },
  {
   "cell_type": "code",
   "execution_count": 6,
   "metadata": {},
   "outputs": [],
   "source": [
    "bool_cols_base = [\"newlyConst\",\"balcony\",\"hasKitchen\",\"lift\",\"garden\"]"
   ]
  },
  {
   "cell_type": "code",
   "execution_count": 7,
   "metadata": {},
   "outputs": [],
   "source": [
    "cat_cols_base = [\"regio1\",\"regio2\",\"regio3\",\n",
    "            \"condition\",\"typeOfFlat\",\"interiorQual\",\n",
    "           \"heatingType\",\"petsAllowed\"]"
   ]
  },
  {
   "cell_type": "code",
   "execution_count": 8,
   "metadata": {},
   "outputs": [],
   "source": [
    "all_cols = num_cols_base + cat_cols_base + bool_cols_base"
   ]
  },
  {
   "cell_type": "code",
   "execution_count": 9,
   "metadata": {},
   "outputs": [
    {
     "data": {
      "text/plain": [
       "Index(['regio1', 'serviceCharge', 'heatingType', 'telekomTvOffer',\n",
       "       'telekomHybridUploadSpeed', 'newlyConst', 'balcony', 'picturecount',\n",
       "       'pricetrend', 'telekomUploadSpeed', 'totalRent', 'yearConstructed',\n",
       "       'scoutId', 'noParkSpaces', 'firingTypes', 'hasKitchen', 'geo_bln',\n",
       "       'cellar', 'yearConstructedRange', 'baseRent', 'houseNumber',\n",
       "       'livingSpace', 'geo_krs', 'condition', 'interiorQual', 'petsAllowed',\n",
       "       'street', 'streetPlain', 'lift', 'baseRentRange', 'typeOfFlat',\n",
       "       'geo_plz', 'noRooms', 'thermalChar', 'floor', 'numberOfFloors',\n",
       "       'noRoomsRange', 'garden', 'livingSpaceRange', 'regio2', 'regio3',\n",
       "       'description', 'facilities', 'heatingCosts', 'energyEfficiencyClass',\n",
       "       'lastRefurbish', 'electricityBasePrice', 'electricityKwhPrice', 'date'],\n",
       "      dtype='object')"
      ]
     },
     "execution_count": 9,
     "metadata": {},
     "output_type": "execute_result"
    }
   ],
   "source": [
    "df.columns"
   ]
  },
  {
   "cell_type": "code",
   "execution_count": 10,
   "metadata": {},
   "outputs": [],
   "source": [
    "columns_dict = {'totalRent':\"total_rent\",\n",
    "                \"heatingCosts\":\"heating_costs\",\n",
    "                'numberOfFloors':\"floors_num\",\n",
    "                'noRooms':\"rooms\",\n",
    "                'livingSpace':\"area\", \n",
    "                'baseRent':\"base_rent\",\n",
    "                'yearConstructed':\"build_year\", \n",
    "                'serviceCharge':\"service_charge\", \n",
    "                'noParkSpaces':\"parking_spaces\",\n",
    "                'newlyConst':\"newly_constructed\", \n",
    "                'hasKitchen':\"kitchen\",\n",
    "                'regio1':\"region\",\n",
    "                'regio2': 'subregion',\n",
    "                'regio3':\"city\",\n",
    "                'typeOfFlat':\"type\",\n",
    "                'interiorQual':\"interior_quality\",\n",
    "                'petsAllowed':\"pets_allowed\",\n",
    "                'heatingType':\"heating_type\",\n",
    "              }"
   ]
  },
  {
   "cell_type": "code",
   "execution_count": 11,
   "metadata": {},
   "outputs": [],
   "source": [
    "df = df[all_cols]"
   ]
  },
  {
   "cell_type": "code",
   "execution_count": 12,
   "metadata": {},
   "outputs": [],
   "source": [
    "df.rename(columns = columns_dict, inplace=True)"
   ]
  },
  {
   "cell_type": "markdown",
   "metadata": {},
   "source": [
    "# Basic transformations"
   ]
  },
  {
   "cell_type": "markdown",
   "metadata": {},
   "source": [
    "## Total Rent"
   ]
  },
  {
   "cell_type": "code",
   "execution_count": 13,
   "metadata": {},
   "outputs": [
    {
     "data": {
      "text/plain": [
       "base_rent                 0\n",
       "service_charge         6909\n",
       "total_rent            40517\n",
       "heating_costs        183332\n",
       "floor                 51309\n",
       "floors_num            97732\n",
       "rooms                     0\n",
       "area                      0\n",
       "build_year            57045\n",
       "parking_spaces       175798\n",
       "region                    0\n",
       "subregion                 0\n",
       "city                      0\n",
       "condition             68489\n",
       "type                  36614\n",
       "interior_quality     112665\n",
       "heating_type          44856\n",
       "pets_allowed         114573\n",
       "newly_constructed         0\n",
       "balcony                   0\n",
       "kitchen                   0\n",
       "lift                      0\n",
       "garden                    0\n",
       "dtype: int64"
      ]
     },
     "execution_count": 13,
     "metadata": {},
     "output_type": "execute_result"
    }
   ],
   "source": [
    "df.isna().sum()"
   ]
  },
  {
   "cell_type": "code",
   "execution_count": 14,
   "metadata": {},
   "outputs": [],
   "source": [
    "def calculate_total_rent(row):\n",
    "    if np.isnan(row.total_rent):\n",
    "        row = row.fillna(0)\n",
    "        total_rent = row.base_rent + row.service_charge + row.heating_costs\n",
    "        \n",
    "    else:\n",
    "        total_rent = row.total_rent\n",
    "    return(total_rent)\n",
    "        \n"
   ]
  },
  {
   "cell_type": "code",
   "execution_count": 15,
   "metadata": {},
   "outputs": [],
   "source": [
    "df[\"total_rent\"] = df.apply(lambda x:calculate_total_rent(x), axis=1)"
   ]
  },
  {
   "cell_type": "code",
   "execution_count": 16,
   "metadata": {},
   "outputs": [
    {
     "data": {
      "text/plain": [
       "Index(['region', 'subregion', 'city', 'condition', 'type', 'interior_quality',\n",
       "       'heating_type', 'pets_allowed'],\n",
       "      dtype='object')"
      ]
     },
     "execution_count": 16,
     "metadata": {},
     "output_type": "execute_result"
    }
   ],
   "source": [
    "df.select_dtypes(include='O').columns"
   ]
  },
  {
   "cell_type": "markdown",
   "metadata": {},
   "source": [
    "## Handle Booleans"
   ]
  },
  {
   "cell_type": "code",
   "execution_count": 17,
   "metadata": {},
   "outputs": [],
   "source": [
    "bool_cols = ['newly_constructed', \"balcony\",\"kitchen\",'lift', 'garden',\"pets_allowed\"]\n",
    "num_cols = ['base_rent', 'service_charge', 'total_rent', 'heating_costs', 'floor',\n",
    "       'floors_num', 'rooms', 'area', 'build_year', 'parking_spaces',\n",
    "       ]\n",
    "cat_cols = ['region', 'subregion', 'city', 'condition', 'type', 'interior_quality',\n",
    "       'heating_type']"
   ]
  },
  {
   "cell_type": "code",
   "execution_count": 18,
   "metadata": {},
   "outputs": [],
   "source": [
    "def try_dict(key, dictionary):\n",
    "    key=str(key)\n",
    "    try:\n",
    "        output = dictionary[key]\n",
    "    except:\n",
    "        output = np.NaN\n",
    "    return(output)"
   ]
  },
  {
   "cell_type": "code",
   "execution_count": 19,
   "metadata": {},
   "outputs": [],
   "source": [
    "pets_allowed_dict = {'no':0,\n",
    "                     'negotiable':1,\n",
    "                     'yes':1}"
   ]
  },
  {
   "cell_type": "code",
   "execution_count": 20,
   "metadata": {},
   "outputs": [],
   "source": [
    "bools_dict = {\"True\":1,\n",
    "             \"False\":0}"
   ]
  },
  {
   "cell_type": "code",
   "execution_count": 21,
   "metadata": {},
   "outputs": [],
   "source": [
    "for column in bool_cols[:-1]:\n",
    "    df[column] = df[column].apply(lambda x: try_dict(x,bools_dict ))"
   ]
  },
  {
   "cell_type": "code",
   "execution_count": 22,
   "metadata": {},
   "outputs": [],
   "source": [
    "df.pets_allowed = df.pets_allowed.apply(lambda x: try_dict(x, pets_allowed_dict))"
   ]
  },
  {
   "cell_type": "code",
   "execution_count": 23,
   "metadata": {},
   "outputs": [
    {
     "data": {
      "text/plain": [
       "array(['ground_floor', 'apartment', 'other', nan, 'roof_storey',\n",
       "       'raised_ground_floor', 'terraced_flat', 'half_basement',\n",
       "       'maisonette', 'penthouse', 'loft'], dtype=object)"
      ]
     },
     "execution_count": 23,
     "metadata": {},
     "output_type": "execute_result"
    }
   ],
   "source": [
    "df.type.unique()"
   ]
  },
  {
   "cell_type": "markdown",
   "metadata": {},
   "source": [
    "## Impute missing"
   ]
  },
  {
   "cell_type": "code",
   "execution_count": 24,
   "metadata": {},
   "outputs": [
    {
     "data": {
      "text/plain": [
       "base_rent                 0\n",
       "service_charge         6909\n",
       "total_rent                0\n",
       "heating_costs        183332\n",
       "floor                 51309\n",
       "floors_num            97732\n",
       "rooms                     0\n",
       "area                      0\n",
       "build_year            57045\n",
       "parking_spaces       175798\n",
       "region                    0\n",
       "subregion                 0\n",
       "city                      0\n",
       "condition             68489\n",
       "type                  36614\n",
       "interior_quality     112665\n",
       "heating_type          44856\n",
       "pets_allowed         114573\n",
       "newly_constructed         0\n",
       "balcony                   0\n",
       "kitchen                   0\n",
       "lift                      0\n",
       "garden                    0\n",
       "dtype: int64"
      ]
     },
     "execution_count": 24,
     "metadata": {},
     "output_type": "execute_result"
    }
   ],
   "source": [
    "df.isna().sum()"
   ]
  },
  {
   "cell_type": "code",
   "execution_count": 25,
   "metadata": {},
   "outputs": [],
   "source": [
    "df.parking_spaces.fillna(0,inplace=True)\n",
    "\n",
    "df.pets_allowed.fillna(0,inplace=True)"
   ]
  },
  {
   "cell_type": "code",
   "execution_count": 26,
   "metadata": {},
   "outputs": [],
   "source": [
    "imputer_freq_cols = [\"floor\",\"floors_num\",\"build_year\", \"condition\", \"type\",\"heating_type\", \"interior_quality\" ]"
   ]
  },
  {
   "cell_type": "code",
   "execution_count": 27,
   "metadata": {},
   "outputs": [],
   "source": [
    "imputer_0_cols = [\"parking_spaces\", \"pets_allowed\" ]"
   ]
  },
  {
   "cell_type": "code",
   "execution_count": 28,
   "metadata": {},
   "outputs": [],
   "source": [
    "imp_0 = SimpleImputer(missing_values=np.nan, strategy=\"constant\",fill_value=0)\n",
    "imp_freq = SimpleImputer(missing_values=np.nan, strategy='most_frequent')"
   ]
  },
  {
   "cell_type": "code",
   "execution_count": 29,
   "metadata": {},
   "outputs": [
    {
     "name": "stdout",
     "output_type": "stream",
     "text": [
      "Wall time: 95 ms\n"
     ]
    }
   ],
   "source": [
    "%%time\n",
    "df[imputer_0_cols] = imp_0.fit_transform(df[imputer_0_cols])"
   ]
  },
  {
   "cell_type": "code",
   "execution_count": 30,
   "metadata": {},
   "outputs": [
    {
     "name": "stdout",
     "output_type": "stream",
     "text": [
      "Wall time: 5min 52s\n"
     ]
    }
   ],
   "source": [
    "%%time\n",
    "df[imputer_freq_cols] = imp_freq.fit_transform(df[imputer_freq_cols ])"
   ]
  },
  {
   "cell_type": "code",
   "execution_count": 31,
   "metadata": {},
   "outputs": [
    {
     "data": {
      "text/html": [
       "<div>\n",
       "<style scoped>\n",
       "    .dataframe tbody tr th:only-of-type {\n",
       "        vertical-align: middle;\n",
       "    }\n",
       "\n",
       "    .dataframe tbody tr th {\n",
       "        vertical-align: top;\n",
       "    }\n",
       "\n",
       "    .dataframe thead th {\n",
       "        text-align: right;\n",
       "    }\n",
       "</style>\n",
       "<table border=\"1\" class=\"dataframe\">\n",
       "  <thead>\n",
       "    <tr style=\"text-align: right;\">\n",
       "      <th></th>\n",
       "      <th>base_rent</th>\n",
       "      <th>service_charge</th>\n",
       "      <th>total_rent</th>\n",
       "      <th>heating_costs</th>\n",
       "      <th>floor</th>\n",
       "      <th>floors_num</th>\n",
       "      <th>rooms</th>\n",
       "      <th>area</th>\n",
       "      <th>build_year</th>\n",
       "      <th>parking_spaces</th>\n",
       "      <th>...</th>\n",
       "      <th>condition</th>\n",
       "      <th>type</th>\n",
       "      <th>interior_quality</th>\n",
       "      <th>heating_type</th>\n",
       "      <th>pets_allowed</th>\n",
       "      <th>newly_constructed</th>\n",
       "      <th>balcony</th>\n",
       "      <th>kitchen</th>\n",
       "      <th>lift</th>\n",
       "      <th>garden</th>\n",
       "    </tr>\n",
       "  </thead>\n",
       "  <tbody>\n",
       "    <tr>\n",
       "      <th>0</th>\n",
       "      <td>595.0</td>\n",
       "      <td>245.00</td>\n",
       "      <td>840.00</td>\n",
       "      <td>NaN</td>\n",
       "      <td>1.0</td>\n",
       "      <td>3.0</td>\n",
       "      <td>4.0</td>\n",
       "      <td>86.00</td>\n",
       "      <td>1965.0</td>\n",
       "      <td>1.0</td>\n",
       "      <td>...</td>\n",
       "      <td>well_kept</td>\n",
       "      <td>ground_floor</td>\n",
       "      <td>normal</td>\n",
       "      <td>central_heating</td>\n",
       "      <td>0.0</td>\n",
       "      <td>0</td>\n",
       "      <td>0</td>\n",
       "      <td>0</td>\n",
       "      <td>0</td>\n",
       "      <td>1</td>\n",
       "    </tr>\n",
       "    <tr>\n",
       "      <th>1</th>\n",
       "      <td>800.0</td>\n",
       "      <td>134.00</td>\n",
       "      <td>934.00</td>\n",
       "      <td>NaN</td>\n",
       "      <td>1.0</td>\n",
       "      <td>3.0</td>\n",
       "      <td>3.0</td>\n",
       "      <td>89.00</td>\n",
       "      <td>1871.0</td>\n",
       "      <td>2.0</td>\n",
       "      <td>...</td>\n",
       "      <td>refurbished</td>\n",
       "      <td>ground_floor</td>\n",
       "      <td>normal</td>\n",
       "      <td>self_contained_central_heating</td>\n",
       "      <td>0.0</td>\n",
       "      <td>0</td>\n",
       "      <td>1</td>\n",
       "      <td>0</td>\n",
       "      <td>0</td>\n",
       "      <td>0</td>\n",
       "    </tr>\n",
       "    <tr>\n",
       "      <th>2</th>\n",
       "      <td>965.0</td>\n",
       "      <td>255.00</td>\n",
       "      <td>1300.00</td>\n",
       "      <td>NaN</td>\n",
       "      <td>3.0</td>\n",
       "      <td>4.0</td>\n",
       "      <td>3.0</td>\n",
       "      <td>83.80</td>\n",
       "      <td>2019.0</td>\n",
       "      <td>1.0</td>\n",
       "      <td>...</td>\n",
       "      <td>first_time_use</td>\n",
       "      <td>apartment</td>\n",
       "      <td>sophisticated</td>\n",
       "      <td>floor_heating</td>\n",
       "      <td>0.0</td>\n",
       "      <td>1</td>\n",
       "      <td>1</td>\n",
       "      <td>0</td>\n",
       "      <td>1</td>\n",
       "      <td>0</td>\n",
       "    </tr>\n",
       "    <tr>\n",
       "      <th>3</th>\n",
       "      <td>343.0</td>\n",
       "      <td>58.15</td>\n",
       "      <td>488.38</td>\n",
       "      <td>87.23</td>\n",
       "      <td>3.0</td>\n",
       "      <td>3.0</td>\n",
       "      <td>3.0</td>\n",
       "      <td>58.15</td>\n",
       "      <td>1964.0</td>\n",
       "      <td>0.0</td>\n",
       "      <td>...</td>\n",
       "      <td>well_kept</td>\n",
       "      <td>other</td>\n",
       "      <td>normal</td>\n",
       "      <td>district_heating</td>\n",
       "      <td>0.0</td>\n",
       "      <td>0</td>\n",
       "      <td>1</td>\n",
       "      <td>0</td>\n",
       "      <td>0</td>\n",
       "      <td>0</td>\n",
       "    </tr>\n",
       "    <tr>\n",
       "      <th>4</th>\n",
       "      <td>765.0</td>\n",
       "      <td>138.00</td>\n",
       "      <td>903.00</td>\n",
       "      <td>NaN</td>\n",
       "      <td>1.0</td>\n",
       "      <td>3.0</td>\n",
       "      <td>3.0</td>\n",
       "      <td>84.97</td>\n",
       "      <td>1950.0</td>\n",
       "      <td>0.0</td>\n",
       "      <td>...</td>\n",
       "      <td>refurbished</td>\n",
       "      <td>apartment</td>\n",
       "      <td>normal</td>\n",
       "      <td>self_contained_central_heating</td>\n",
       "      <td>0.0</td>\n",
       "      <td>0</td>\n",
       "      <td>1</td>\n",
       "      <td>0</td>\n",
       "      <td>0</td>\n",
       "      <td>0</td>\n",
       "    </tr>\n",
       "    <tr>\n",
       "      <th>...</th>\n",
       "      <td>...</td>\n",
       "      <td>...</td>\n",
       "      <td>...</td>\n",
       "      <td>...</td>\n",
       "      <td>...</td>\n",
       "      <td>...</td>\n",
       "      <td>...</td>\n",
       "      <td>...</td>\n",
       "      <td>...</td>\n",
       "      <td>...</td>\n",
       "      <td>...</td>\n",
       "      <td>...</td>\n",
       "      <td>...</td>\n",
       "      <td>...</td>\n",
       "      <td>...</td>\n",
       "      <td>...</td>\n",
       "      <td>...</td>\n",
       "      <td>...</td>\n",
       "      <td>...</td>\n",
       "      <td>...</td>\n",
       "      <td>...</td>\n",
       "    </tr>\n",
       "    <tr>\n",
       "      <th>268845</th>\n",
       "      <td>820.0</td>\n",
       "      <td>90.00</td>\n",
       "      <td>910.00</td>\n",
       "      <td>NaN</td>\n",
       "      <td>1.0</td>\n",
       "      <td>3.0</td>\n",
       "      <td>3.0</td>\n",
       "      <td>90.00</td>\n",
       "      <td>2016.0</td>\n",
       "      <td>1.0</td>\n",
       "      <td>...</td>\n",
       "      <td>mint_condition</td>\n",
       "      <td>roof_storey</td>\n",
       "      <td>sophisticated</td>\n",
       "      <td>heat_pump</td>\n",
       "      <td>0.0</td>\n",
       "      <td>0</td>\n",
       "      <td>1</td>\n",
       "      <td>0</td>\n",
       "      <td>0</td>\n",
       "      <td>0</td>\n",
       "    </tr>\n",
       "    <tr>\n",
       "      <th>268846</th>\n",
       "      <td>930.0</td>\n",
       "      <td>220.00</td>\n",
       "      <td>1150.00</td>\n",
       "      <td>NaN</td>\n",
       "      <td>1.0</td>\n",
       "      <td>1.0</td>\n",
       "      <td>3.5</td>\n",
       "      <td>115.00</td>\n",
       "      <td>1983.0</td>\n",
       "      <td>1.0</td>\n",
       "      <td>...</td>\n",
       "      <td>well_kept</td>\n",
       "      <td>apartment</td>\n",
       "      <td>sophisticated</td>\n",
       "      <td>gas_heating</td>\n",
       "      <td>1.0</td>\n",
       "      <td>0</td>\n",
       "      <td>1</td>\n",
       "      <td>1</td>\n",
       "      <td>0</td>\n",
       "      <td>0</td>\n",
       "    </tr>\n",
       "    <tr>\n",
       "      <th>268847</th>\n",
       "      <td>650.0</td>\n",
       "      <td>220.00</td>\n",
       "      <td>930.00</td>\n",
       "      <td>NaN</td>\n",
       "      <td>1.0</td>\n",
       "      <td>2.0</td>\n",
       "      <td>4.0</td>\n",
       "      <td>95.00</td>\n",
       "      <td>1965.0</td>\n",
       "      <td>1.0</td>\n",
       "      <td>...</td>\n",
       "      <td>well_kept</td>\n",
       "      <td>apartment</td>\n",
       "      <td>normal</td>\n",
       "      <td>central_heating</td>\n",
       "      <td>1.0</td>\n",
       "      <td>0</td>\n",
       "      <td>1</td>\n",
       "      <td>0</td>\n",
       "      <td>0</td>\n",
       "      <td>1</td>\n",
       "    </tr>\n",
       "    <tr>\n",
       "      <th>268848</th>\n",
       "      <td>840.0</td>\n",
       "      <td>175.00</td>\n",
       "      <td>1015.00</td>\n",
       "      <td>40.00</td>\n",
       "      <td>1.0</td>\n",
       "      <td>5.0</td>\n",
       "      <td>2.0</td>\n",
       "      <td>70.00</td>\n",
       "      <td>2019.0</td>\n",
       "      <td>1.0</td>\n",
       "      <td>...</td>\n",
       "      <td>first_time_use</td>\n",
       "      <td>apartment</td>\n",
       "      <td>sophisticated</td>\n",
       "      <td>heat_pump</td>\n",
       "      <td>0.0</td>\n",
       "      <td>1</td>\n",
       "      <td>1</td>\n",
       "      <td>0</td>\n",
       "      <td>1</td>\n",
       "      <td>0</td>\n",
       "    </tr>\n",
       "    <tr>\n",
       "      <th>268849</th>\n",
       "      <td>935.0</td>\n",
       "      <td>315.00</td>\n",
       "      <td>1250.00</td>\n",
       "      <td>NaN</td>\n",
       "      <td>1.0</td>\n",
       "      <td>13.0</td>\n",
       "      <td>3.0</td>\n",
       "      <td>77.00</td>\n",
       "      <td>1972.0</td>\n",
       "      <td>1.0</td>\n",
       "      <td>...</td>\n",
       "      <td>modernized</td>\n",
       "      <td>apartment</td>\n",
       "      <td>normal</td>\n",
       "      <td>central_heating</td>\n",
       "      <td>0.0</td>\n",
       "      <td>0</td>\n",
       "      <td>1</td>\n",
       "      <td>1</td>\n",
       "      <td>1</td>\n",
       "      <td>0</td>\n",
       "    </tr>\n",
       "  </tbody>\n",
       "</table>\n",
       "<p>268850 rows × 23 columns</p>\n",
       "</div>"
      ],
      "text/plain": [
       "        base_rent  service_charge  total_rent  heating_costs  floor  \\\n",
       "0           595.0          245.00      840.00            NaN    1.0   \n",
       "1           800.0          134.00      934.00            NaN    1.0   \n",
       "2           965.0          255.00     1300.00            NaN    3.0   \n",
       "3           343.0           58.15      488.38          87.23    3.0   \n",
       "4           765.0          138.00      903.00            NaN    1.0   \n",
       "...           ...             ...         ...            ...    ...   \n",
       "268845      820.0           90.00      910.00            NaN    1.0   \n",
       "268846      930.0          220.00     1150.00            NaN    1.0   \n",
       "268847      650.0          220.00      930.00            NaN    1.0   \n",
       "268848      840.0          175.00     1015.00          40.00    1.0   \n",
       "268849      935.0          315.00     1250.00            NaN    1.0   \n",
       "\n",
       "        floors_num  rooms    area  build_year  parking_spaces  ...  \\\n",
       "0              3.0    4.0   86.00      1965.0             1.0  ...   \n",
       "1              3.0    3.0   89.00      1871.0             2.0  ...   \n",
       "2              4.0    3.0   83.80      2019.0             1.0  ...   \n",
       "3              3.0    3.0   58.15      1964.0             0.0  ...   \n",
       "4              3.0    3.0   84.97      1950.0             0.0  ...   \n",
       "...            ...    ...     ...         ...             ...  ...   \n",
       "268845         3.0    3.0   90.00      2016.0             1.0  ...   \n",
       "268846         1.0    3.5  115.00      1983.0             1.0  ...   \n",
       "268847         2.0    4.0   95.00      1965.0             1.0  ...   \n",
       "268848         5.0    2.0   70.00      2019.0             1.0  ...   \n",
       "268849        13.0    3.0   77.00      1972.0             1.0  ...   \n",
       "\n",
       "             condition          type interior_quality  \\\n",
       "0            well_kept  ground_floor           normal   \n",
       "1          refurbished  ground_floor           normal   \n",
       "2       first_time_use     apartment    sophisticated   \n",
       "3            well_kept         other           normal   \n",
       "4          refurbished     apartment           normal   \n",
       "...                ...           ...              ...   \n",
       "268845  mint_condition   roof_storey    sophisticated   \n",
       "268846       well_kept     apartment    sophisticated   \n",
       "268847       well_kept     apartment           normal   \n",
       "268848  first_time_use     apartment    sophisticated   \n",
       "268849      modernized     apartment           normal   \n",
       "\n",
       "                          heating_type pets_allowed newly_constructed balcony  \\\n",
       "0                      central_heating          0.0                 0       0   \n",
       "1       self_contained_central_heating          0.0                 0       1   \n",
       "2                        floor_heating          0.0                 1       1   \n",
       "3                     district_heating          0.0                 0       1   \n",
       "4       self_contained_central_heating          0.0                 0       1   \n",
       "...                                ...          ...               ...     ...   \n",
       "268845                       heat_pump          0.0                 0       1   \n",
       "268846                     gas_heating          1.0                 0       1   \n",
       "268847                 central_heating          1.0                 0       1   \n",
       "268848                       heat_pump          0.0                 1       1   \n",
       "268849                 central_heating          0.0                 0       1   \n",
       "\n",
       "        kitchen  lift  garden  \n",
       "0             0     0       1  \n",
       "1             0     0       0  \n",
       "2             0     1       0  \n",
       "3             0     0       0  \n",
       "4             0     0       0  \n",
       "...         ...   ...     ...  \n",
       "268845        0     0       0  \n",
       "268846        1     0       0  \n",
       "268847        0     0       1  \n",
       "268848        0     1       0  \n",
       "268849        1     1       0  \n",
       "\n",
       "[268850 rows x 23 columns]"
      ]
     },
     "execution_count": 31,
     "metadata": {},
     "output_type": "execute_result"
    }
   ],
   "source": [
    "df"
   ]
  },
  {
   "cell_type": "code",
   "execution_count": 32,
   "metadata": {},
   "outputs": [],
   "source": [
    "df.to_csv(\"German_rentals_transofrmed.csv\", index=False)"
   ]
  },
  {
   "cell_type": "markdown",
   "metadata": {},
   "source": [
    "## Label encoding condition and interior "
   ]
  },
  {
   "cell_type": "code",
   "execution_count": 33,
   "metadata": {},
   "outputs": [
    {
     "data": {
      "text/html": [
       "<div>\n",
       "<style scoped>\n",
       "    .dataframe tbody tr th:only-of-type {\n",
       "        vertical-align: middle;\n",
       "    }\n",
       "\n",
       "    .dataframe tbody tr th {\n",
       "        vertical-align: top;\n",
       "    }\n",
       "\n",
       "    .dataframe thead th {\n",
       "        text-align: right;\n",
       "    }\n",
       "</style>\n",
       "<table border=\"1\" class=\"dataframe\">\n",
       "  <thead>\n",
       "    <tr style=\"text-align: right;\">\n",
       "      <th></th>\n",
       "      <th>condition</th>\n",
       "      <th>total_rent</th>\n",
       "    </tr>\n",
       "  </thead>\n",
       "  <tbody>\n",
       "    <tr>\n",
       "      <th>6</th>\n",
       "      <td>negotiable</td>\n",
       "      <td>643.193152</td>\n",
       "    </tr>\n",
       "    <tr>\n",
       "      <th>7</th>\n",
       "      <td>refurbished</td>\n",
       "      <td>690.805382</td>\n",
       "    </tr>\n",
       "    <tr>\n",
       "      <th>5</th>\n",
       "      <td>need_of_renovation</td>\n",
       "      <td>694.127821</td>\n",
       "    </tr>\n",
       "    <tr>\n",
       "      <th>4</th>\n",
       "      <td>modernized</td>\n",
       "      <td>734.610005</td>\n",
       "    </tr>\n",
       "    <tr>\n",
       "      <th>2</th>\n",
       "      <td>fully_renovated</td>\n",
       "      <td>752.330419</td>\n",
       "    </tr>\n",
       "    <tr>\n",
       "      <th>9</th>\n",
       "      <td>well_kept</td>\n",
       "      <td>819.081251</td>\n",
       "    </tr>\n",
       "    <tr>\n",
       "      <th>8</th>\n",
       "      <td>ripe_for_demolition</td>\n",
       "      <td>912.625000</td>\n",
       "    </tr>\n",
       "    <tr>\n",
       "      <th>1</th>\n",
       "      <td>first_time_use_after_refurbishment</td>\n",
       "      <td>962.081258</td>\n",
       "    </tr>\n",
       "    <tr>\n",
       "      <th>0</th>\n",
       "      <td>first_time_use</td>\n",
       "      <td>1308.926355</td>\n",
       "    </tr>\n",
       "    <tr>\n",
       "      <th>3</th>\n",
       "      <td>mint_condition</td>\n",
       "      <td>1901.703602</td>\n",
       "    </tr>\n",
       "  </tbody>\n",
       "</table>\n",
       "</div>"
      ],
      "text/plain": [
       "                            condition   total_rent\n",
       "6                          negotiable   643.193152\n",
       "7                         refurbished   690.805382\n",
       "5                  need_of_renovation   694.127821\n",
       "4                          modernized   734.610005\n",
       "2                     fully_renovated   752.330419\n",
       "9                           well_kept   819.081251\n",
       "8                 ripe_for_demolition   912.625000\n",
       "1  first_time_use_after_refurbishment   962.081258\n",
       "0                      first_time_use  1308.926355\n",
       "3                      mint_condition  1901.703602"
      ]
     },
     "execution_count": 33,
     "metadata": {},
     "output_type": "execute_result"
    }
   ],
   "source": [
    "df.groupby(\"condition\", as_index=False).total_rent.mean().sort_values(by=\"total_rent\")"
   ]
  },
  {
   "cell_type": "code",
   "execution_count": 34,
   "metadata": {},
   "outputs": [
    {
     "data": {
      "text/plain": [
       "Index(['base_rent', 'service_charge', 'total_rent', 'heating_costs', 'floor',\n",
       "       'floors_num', 'rooms', 'area', 'build_year', 'parking_spaces', 'region',\n",
       "       'subregion', 'city', 'condition', 'type', 'interior_quality',\n",
       "       'heating_type', 'pets_allowed', 'newly_constructed', 'balcony',\n",
       "       'kitchen', 'lift', 'garden'],\n",
       "      dtype='object')"
      ]
     },
     "execution_count": 34,
     "metadata": {},
     "output_type": "execute_result"
    }
   ],
   "source": [
    "df.columns"
   ]
  },
  {
   "cell_type": "code",
   "execution_count": 35,
   "metadata": {},
   "outputs": [],
   "source": [
    "interior_dict = {'normal':1,\n",
    "                 'sophisticated':2,\n",
    "                 'simple':0, \n",
    "                 'luxury':3}\n",
    "\n",
    "condition_dict = {\n",
    "                  'first_time_use':5, \n",
    "                   'mint_condition':5,    \n",
    "                   'first_time_use_after_refurbishment':4, \n",
    "                   'fully_renovated':4, \n",
    "                   'well_kept':3,\n",
    "                   'modernized':3, \n",
    "                   'refurbished':2,\n",
    "                   'negotiable':1,\n",
    "                   'need_of_renovation':0, \n",
    "                   'ripe_for_demolition':0}\n"
   ]
  },
  {
   "cell_type": "code",
   "execution_count": 36,
   "metadata": {},
   "outputs": [],
   "source": [
    "df[\"condition\"] = df.condition.apply(lambda x:condition_dict[x])"
   ]
  },
  {
   "cell_type": "code",
   "execution_count": 37,
   "metadata": {},
   "outputs": [],
   "source": [
    "df[\"interior_quality\"] = df.interior_quality.apply(lambda x:interior_dict[x])"
   ]
  },
  {
   "cell_type": "code",
   "execution_count": 38,
   "metadata": {},
   "outputs": [
    {
     "data": {
      "text/plain": [
       "heating_type\n",
       "central_heating                   173833\n",
       "combined_heat_and_power_plant       1978\n",
       "district_heating                   24808\n",
       "electric_heating                     901\n",
       "floor_heating                      17697\n",
       "gas_heating                        19955\n",
       "heat_pump                           2737\n",
       "night_storage_heater                1341\n",
       "oil_heating                         5042\n",
       "self_contained_central_heating     19087\n",
       "solar_heating                        166\n",
       "stove_heating                        344\n",
       "wood_pellet_heating                  961\n",
       "Name: area, dtype: int64"
      ]
     },
     "execution_count": 38,
     "metadata": {},
     "output_type": "execute_result"
    }
   ],
   "source": [
    "df.groupby(\"heating_type\").area.count()"
   ]
  },
  {
   "cell_type": "code",
   "execution_count": 39,
   "metadata": {},
   "outputs": [],
   "source": [
    "heating_dict = {'central_heating':'central_heating', \n",
    "                'gas_heating':\"gas\", \n",
    "                'self_contained_central_heating':'central_heating',\n",
    "                'floor_heating':'central_heating',\n",
    "                'oil_heating':\"oil\", \n",
    "                'district_heating': 'district_heating',\n",
    "               'night_storage_heater':'central_heating', \n",
    "                'heat_pump':\"renewables\",\n",
    "               'combined_heat_and_power_plant':'central_heating', \n",
    "                'electric_heating':'electric',\n",
    "               'stove_heating':\"solid_fuel\", \n",
    "                'wood_pellet_heating':\"solid_fuel\", \n",
    "                'solar_heating':\"renewables\"}"
   ]
  },
  {
   "cell_type": "code",
   "execution_count": 40,
   "metadata": {},
   "outputs": [],
   "source": [
    "df.heating_type = df.heating_type.apply(lambda x:heating_dict[x])"
   ]
  },
  {
   "cell_type": "markdown",
   "metadata": {},
   "source": [
    "# One hot encoding"
   ]
  },
  {
   "cell_type": "code",
   "execution_count": 41,
   "metadata": {},
   "outputs": [],
   "source": [
    "from sklearn.base import BaseEstimator, TransformerMixin"
   ]
  },
  {
   "cell_type": "code",
   "execution_count": 42,
   "metadata": {},
   "outputs": [],
   "source": [
    "class OneHotEncoder(BaseEstimator, TransformerMixin):\n",
    "    def __init__(self, cat_columns):\n",
    "        self.cat_columns = cat_columns\n",
    "    \n",
    "        \n",
    "\n",
    "    def fit(self, X, y=None):\n",
    "        self.one_hot_cols = pd.get_dummies(X[self.cat_columns]).columns\n",
    "\n",
    "\n",
    "        \n",
    "        return self\n",
    "    \n",
    "    def transform(self, X, y=None):\n",
    "        \n",
    "        X_one_hot = pd.get_dummies(X[self.cat_columns])\n",
    "        \n",
    "\n",
    "        X_tr = pd.concat([X, X_one_hot], axis=1)\n",
    "        \n",
    "        \n",
    "            \n",
    "        return X_tr"
   ]
  },
  {
   "cell_type": "code",
   "execution_count": 43,
   "metadata": {},
   "outputs": [
    {
     "data": {
      "text/plain": [
       "'city'"
      ]
     },
     "execution_count": 43,
     "metadata": {},
     "output_type": "execute_result"
    }
   ],
   "source": [
    "cat_cols.pop(1)\n",
    "cat_cols.pop(1)"
   ]
  },
  {
   "cell_type": "code",
   "execution_count": 44,
   "metadata": {},
   "outputs": [
    {
     "data": {
      "text/plain": [
       "(268850, 23)"
      ]
     },
     "execution_count": 44,
     "metadata": {},
     "output_type": "execute_result"
    }
   ],
   "source": [
    "df.shape"
   ]
  },
  {
   "cell_type": "code",
   "execution_count": 45,
   "metadata": {},
   "outputs": [
    {
     "data": {
      "text/plain": [
       "['region', 'condition', 'type', 'interior_quality', 'heating_type']"
      ]
     },
     "execution_count": 45,
     "metadata": {},
     "output_type": "execute_result"
    }
   ],
   "source": [
    "cat_cols"
   ]
  },
  {
   "cell_type": "code",
   "execution_count": 46,
   "metadata": {},
   "outputs": [],
   "source": [
    "one_hot_cols = ['region','type']"
   ]
  },
  {
   "cell_type": "code",
   "execution_count": 47,
   "metadata": {},
   "outputs": [],
   "source": [
    "one_hot_enc = OneHotEncoder(one_hot_cols)"
   ]
  },
  {
   "cell_type": "code",
   "execution_count": 48,
   "metadata": {},
   "outputs": [],
   "source": [
    "df = one_hot_enc.fit_transform(df)"
   ]
  },
  {
   "cell_type": "markdown",
   "metadata": {},
   "source": [
    "## Rank encoder"
   ]
  },
  {
   "cell_type": "code",
   "execution_count": 49,
   "metadata": {},
   "outputs": [],
   "source": [
    "region_map = df.groupby(\"subregion\", as_index=False).total_rent.mean()"
   ]
  },
  {
   "cell_type": "code",
   "execution_count": 50,
   "metadata": {},
   "outputs": [],
   "source": [
    "region_map[\"subregion_rank\"] = region_map.total_rent.rank(ascending=False)"
   ]
  },
  {
   "cell_type": "code",
   "execution_count": 51,
   "metadata": {},
   "outputs": [
    {
     "data": {
      "text/html": [
       "<div>\n",
       "<style scoped>\n",
       "    .dataframe tbody tr th:only-of-type {\n",
       "        vertical-align: middle;\n",
       "    }\n",
       "\n",
       "    .dataframe tbody tr th {\n",
       "        vertical-align: top;\n",
       "    }\n",
       "\n",
       "    .dataframe thead th {\n",
       "        text-align: right;\n",
       "    }\n",
       "</style>\n",
       "<table border=\"1\" class=\"dataframe\">\n",
       "  <thead>\n",
       "    <tr style=\"text-align: right;\">\n",
       "      <th></th>\n",
       "      <th>subregion</th>\n",
       "      <th>total_rent</th>\n",
       "      <th>subregion_rank</th>\n",
       "    </tr>\n",
       "  </thead>\n",
       "  <tbody>\n",
       "    <tr>\n",
       "      <th>165</th>\n",
       "      <td>Hoyerswerda</td>\n",
       "      <td>415.105878</td>\n",
       "      <td>419.0</td>\n",
       "    </tr>\n",
       "    <tr>\n",
       "      <th>377</th>\n",
       "      <td>Uecker_Randow_Kreis</td>\n",
       "      <td>421.928599</td>\n",
       "      <td>418.0</td>\n",
       "    </tr>\n",
       "    <tr>\n",
       "      <th>130</th>\n",
       "      <td>Görlitz_Kreis</td>\n",
       "      <td>425.551884</td>\n",
       "      <td>417.0</td>\n",
       "    </tr>\n",
       "    <tr>\n",
       "      <th>292</th>\n",
       "      <td>Plauen</td>\n",
       "      <td>429.965155</td>\n",
       "      <td>416.0</td>\n",
       "    </tr>\n",
       "    <tr>\n",
       "      <th>406</th>\n",
       "      <td>Wittenberg_Kreis</td>\n",
       "      <td>434.255409</td>\n",
       "      <td>415.0</td>\n",
       "    </tr>\n",
       "    <tr>\n",
       "      <th>...</th>\n",
       "      <td>...</td>\n",
       "      <td>...</td>\n",
       "      <td>...</td>\n",
       "    </tr>\n",
       "    <tr>\n",
       "      <th>310</th>\n",
       "      <td>Rhein_Neckar_Kreis</td>\n",
       "      <td>2350.380969</td>\n",
       "      <td>5.0</td>\n",
       "    </tr>\n",
       "    <tr>\n",
       "      <th>100</th>\n",
       "      <td>Esslingen_Kreis</td>\n",
       "      <td>2675.739593</td>\n",
       "      <td>4.0</td>\n",
       "    </tr>\n",
       "    <tr>\n",
       "      <th>7</th>\n",
       "      <td>Altmarkkreis_Salzwedel</td>\n",
       "      <td>2819.210163</td>\n",
       "      <td>3.0</td>\n",
       "    </tr>\n",
       "    <tr>\n",
       "      <th>250</th>\n",
       "      <td>Neustadt_an_der_Weinstraße</td>\n",
       "      <td>109577.285517</td>\n",
       "      <td>2.0</td>\n",
       "    </tr>\n",
       "    <tr>\n",
       "      <th>225</th>\n",
       "      <td>Merzig_Wadern_Kreis</td>\n",
       "      <td>127385.721519</td>\n",
       "      <td>1.0</td>\n",
       "    </tr>\n",
       "  </tbody>\n",
       "</table>\n",
       "<p>419 rows × 3 columns</p>\n",
       "</div>"
      ],
      "text/plain": [
       "                      subregion     total_rent  subregion_rank\n",
       "165                 Hoyerswerda     415.105878           419.0\n",
       "377         Uecker_Randow_Kreis     421.928599           418.0\n",
       "130               Görlitz_Kreis     425.551884           417.0\n",
       "292                      Plauen     429.965155           416.0\n",
       "406            Wittenberg_Kreis     434.255409           415.0\n",
       "..                          ...            ...             ...\n",
       "310          Rhein_Neckar_Kreis    2350.380969             5.0\n",
       "100             Esslingen_Kreis    2675.739593             4.0\n",
       "7        Altmarkkreis_Salzwedel    2819.210163             3.0\n",
       "250  Neustadt_an_der_Weinstraße  109577.285517             2.0\n",
       "225         Merzig_Wadern_Kreis  127385.721519             1.0\n",
       "\n",
       "[419 rows x 3 columns]"
      ]
     },
     "execution_count": 51,
     "metadata": {},
     "output_type": "execute_result"
    }
   ],
   "source": [
    "region_map.sort_values(by=\"total_rent\")"
   ]
  },
  {
   "cell_type": "code",
   "execution_count": 52,
   "metadata": {},
   "outputs": [],
   "source": [
    "df = df.merge(region_map[[\"subregion\", \"subregion_rank\"]], on=\"subregion\")"
   ]
  },
  {
   "cell_type": "code",
   "execution_count": 53,
   "metadata": {},
   "outputs": [],
   "source": [
    "df.to_csv(\"data/German_rentals_model_input.csv\")"
   ]
  },
  {
   "cell_type": "code",
   "execution_count": 54,
   "metadata": {},
   "outputs": [
    {
     "data": {
      "text/plain": [
       "array(['central_heating', 'gas', 'oil', 'district_heating', 'renewables',\n",
       "       'electric', 'solid_fuel'], dtype=object)"
      ]
     },
     "execution_count": 54,
     "metadata": {},
     "output_type": "execute_result"
    }
   ],
   "source": [
    "df.heating_type.unique()"
   ]
  },
  {
   "cell_type": "code",
   "execution_count": 84,
   "metadata": {},
   "outputs": [
    {
     "data": {
      "text/html": [
       "<div>\n",
       "<style scoped>\n",
       "    .dataframe tbody tr th:only-of-type {\n",
       "        vertical-align: middle;\n",
       "    }\n",
       "\n",
       "    .dataframe tbody tr th {\n",
       "        vertical-align: top;\n",
       "    }\n",
       "\n",
       "    .dataframe thead th {\n",
       "        text-align: right;\n",
       "    }\n",
       "</style>\n",
       "<table border=\"1\" class=\"dataframe\">\n",
       "  <thead>\n",
       "    <tr style=\"text-align: right;\">\n",
       "      <th></th>\n",
       "      <th>base_rent</th>\n",
       "      <th>service_charge</th>\n",
       "      <th>total_rent</th>\n",
       "      <th>heating_costs</th>\n",
       "      <th>floor</th>\n",
       "      <th>floors_num</th>\n",
       "      <th>rooms</th>\n",
       "      <th>area</th>\n",
       "      <th>build_year</th>\n",
       "      <th>parking_spaces</th>\n",
       "      <th>...</th>\n",
       "      <th>type_ground_floor</th>\n",
       "      <th>type_half_basement</th>\n",
       "      <th>type_loft</th>\n",
       "      <th>type_maisonette</th>\n",
       "      <th>type_other</th>\n",
       "      <th>type_penthouse</th>\n",
       "      <th>type_raised_ground_floor</th>\n",
       "      <th>type_roof_storey</th>\n",
       "      <th>type_terraced_flat</th>\n",
       "      <th>subregion_rank</th>\n",
       "    </tr>\n",
       "  </thead>\n",
       "  <tbody>\n",
       "    <tr>\n",
       "      <th>0</th>\n",
       "      <td>595.00</td>\n",
       "      <td>245.0</td>\n",
       "      <td>840.00</td>\n",
       "      <td>NaN</td>\n",
       "      <td>1.0</td>\n",
       "      <td>3.0</td>\n",
       "      <td>4.0</td>\n",
       "      <td>86.00</td>\n",
       "      <td>1965.0</td>\n",
       "      <td>1.0</td>\n",
       "      <td>...</td>\n",
       "      <td>1</td>\n",
       "      <td>0</td>\n",
       "      <td>0</td>\n",
       "      <td>0</td>\n",
       "      <td>0</td>\n",
       "      <td>0</td>\n",
       "      <td>0</td>\n",
       "      <td>0</td>\n",
       "      <td>0</td>\n",
       "      <td>234.0</td>\n",
       "    </tr>\n",
       "    <tr>\n",
       "      <th>1</th>\n",
       "      <td>972.60</td>\n",
       "      <td>215.0</td>\n",
       "      <td>1320.65</td>\n",
       "      <td>43.05</td>\n",
       "      <td>0.0</td>\n",
       "      <td>4.0</td>\n",
       "      <td>3.0</td>\n",
       "      <td>87.00</td>\n",
       "      <td>2018.0</td>\n",
       "      <td>1.0</td>\n",
       "      <td>...</td>\n",
       "      <td>1</td>\n",
       "      <td>0</td>\n",
       "      <td>0</td>\n",
       "      <td>0</td>\n",
       "      <td>0</td>\n",
       "      <td>0</td>\n",
       "      <td>0</td>\n",
       "      <td>0</td>\n",
       "      <td>0</td>\n",
       "      <td>234.0</td>\n",
       "    </tr>\n",
       "    <tr>\n",
       "      <th>2</th>\n",
       "      <td>396.80</td>\n",
       "      <td>97.0</td>\n",
       "      <td>493.80</td>\n",
       "      <td>NaN</td>\n",
       "      <td>1.0</td>\n",
       "      <td>3.0</td>\n",
       "      <td>2.0</td>\n",
       "      <td>62.00</td>\n",
       "      <td>1958.0</td>\n",
       "      <td>0.0</td>\n",
       "      <td>...</td>\n",
       "      <td>1</td>\n",
       "      <td>0</td>\n",
       "      <td>0</td>\n",
       "      <td>0</td>\n",
       "      <td>0</td>\n",
       "      <td>0</td>\n",
       "      <td>0</td>\n",
       "      <td>0</td>\n",
       "      <td>0</td>\n",
       "      <td>234.0</td>\n",
       "    </tr>\n",
       "    <tr>\n",
       "      <th>3</th>\n",
       "      <td>310.00</td>\n",
       "      <td>100.0</td>\n",
       "      <td>460.00</td>\n",
       "      <td>50.00</td>\n",
       "      <td>0.0</td>\n",
       "      <td>2.0</td>\n",
       "      <td>2.0</td>\n",
       "      <td>55.00</td>\n",
       "      <td>1930.0</td>\n",
       "      <td>0.0</td>\n",
       "      <td>...</td>\n",
       "      <td>1</td>\n",
       "      <td>0</td>\n",
       "      <td>0</td>\n",
       "      <td>0</td>\n",
       "      <td>0</td>\n",
       "      <td>0</td>\n",
       "      <td>0</td>\n",
       "      <td>0</td>\n",
       "      <td>0</td>\n",
       "      <td>234.0</td>\n",
       "    </tr>\n",
       "    <tr>\n",
       "      <th>4</th>\n",
       "      <td>301.00</td>\n",
       "      <td>60.0</td>\n",
       "      <td>397.00</td>\n",
       "      <td>36.00</td>\n",
       "      <td>3.0</td>\n",
       "      <td>3.0</td>\n",
       "      <td>1.5</td>\n",
       "      <td>30.07</td>\n",
       "      <td>1979.0</td>\n",
       "      <td>1.0</td>\n",
       "      <td>...</td>\n",
       "      <td>0</td>\n",
       "      <td>0</td>\n",
       "      <td>0</td>\n",
       "      <td>0</td>\n",
       "      <td>0</td>\n",
       "      <td>0</td>\n",
       "      <td>0</td>\n",
       "      <td>0</td>\n",
       "      <td>0</td>\n",
       "      <td>234.0</td>\n",
       "    </tr>\n",
       "    <tr>\n",
       "      <th>...</th>\n",
       "      <td>...</td>\n",
       "      <td>...</td>\n",
       "      <td>...</td>\n",
       "      <td>...</td>\n",
       "      <td>...</td>\n",
       "      <td>...</td>\n",
       "      <td>...</td>\n",
       "      <td>...</td>\n",
       "      <td>...</td>\n",
       "      <td>...</td>\n",
       "      <td>...</td>\n",
       "      <td>...</td>\n",
       "      <td>...</td>\n",
       "      <td>...</td>\n",
       "      <td>...</td>\n",
       "      <td>...</td>\n",
       "      <td>...</td>\n",
       "      <td>...</td>\n",
       "      <td>...</td>\n",
       "      <td>...</td>\n",
       "      <td>...</td>\n",
       "    </tr>\n",
       "    <tr>\n",
       "      <th>268845</th>\n",
       "      <td>430.00</td>\n",
       "      <td>60.0</td>\n",
       "      <td>570.00</td>\n",
       "      <td>80.00</td>\n",
       "      <td>2.0</td>\n",
       "      <td>2.0</td>\n",
       "      <td>3.0</td>\n",
       "      <td>86.00</td>\n",
       "      <td>1939.0</td>\n",
       "      <td>1.0</td>\n",
       "      <td>...</td>\n",
       "      <td>0</td>\n",
       "      <td>0</td>\n",
       "      <td>0</td>\n",
       "      <td>0</td>\n",
       "      <td>0</td>\n",
       "      <td>0</td>\n",
       "      <td>0</td>\n",
       "      <td>1</td>\n",
       "      <td>0</td>\n",
       "      <td>262.0</td>\n",
       "    </tr>\n",
       "    <tr>\n",
       "      <th>268846</th>\n",
       "      <td>760.00</td>\n",
       "      <td>50.0</td>\n",
       "      <td>810.00</td>\n",
       "      <td>NaN</td>\n",
       "      <td>1.0</td>\n",
       "      <td>1.0</td>\n",
       "      <td>3.0</td>\n",
       "      <td>90.00</td>\n",
       "      <td>2019.0</td>\n",
       "      <td>1.0</td>\n",
       "      <td>...</td>\n",
       "      <td>0</td>\n",
       "      <td>0</td>\n",
       "      <td>0</td>\n",
       "      <td>0</td>\n",
       "      <td>0</td>\n",
       "      <td>0</td>\n",
       "      <td>0</td>\n",
       "      <td>0</td>\n",
       "      <td>0</td>\n",
       "      <td>262.0</td>\n",
       "    </tr>\n",
       "    <tr>\n",
       "      <th>268847</th>\n",
       "      <td>760.00</td>\n",
       "      <td>50.0</td>\n",
       "      <td>880.00</td>\n",
       "      <td>50.00</td>\n",
       "      <td>1.0</td>\n",
       "      <td>1.0</td>\n",
       "      <td>3.0</td>\n",
       "      <td>90.00</td>\n",
       "      <td>2019.0</td>\n",
       "      <td>1.0</td>\n",
       "      <td>...</td>\n",
       "      <td>0</td>\n",
       "      <td>0</td>\n",
       "      <td>0</td>\n",
       "      <td>0</td>\n",
       "      <td>0</td>\n",
       "      <td>0</td>\n",
       "      <td>0</td>\n",
       "      <td>0</td>\n",
       "      <td>0</td>\n",
       "      <td>262.0</td>\n",
       "    </tr>\n",
       "    <tr>\n",
       "      <th>268848</th>\n",
       "      <td>365.00</td>\n",
       "      <td>120.0</td>\n",
       "      <td>485.00</td>\n",
       "      <td>NaN</td>\n",
       "      <td>1.0</td>\n",
       "      <td>2.0</td>\n",
       "      <td>2.0</td>\n",
       "      <td>66.00</td>\n",
       "      <td>2019.0</td>\n",
       "      <td>1.0</td>\n",
       "      <td>...</td>\n",
       "      <td>0</td>\n",
       "      <td>0</td>\n",
       "      <td>0</td>\n",
       "      <td>0</td>\n",
       "      <td>0</td>\n",
       "      <td>0</td>\n",
       "      <td>0</td>\n",
       "      <td>1</td>\n",
       "      <td>0</td>\n",
       "      <td>262.0</td>\n",
       "    </tr>\n",
       "    <tr>\n",
       "      <th>268849</th>\n",
       "      <td>426.36</td>\n",
       "      <td>80.0</td>\n",
       "      <td>506.36</td>\n",
       "      <td>NaN</td>\n",
       "      <td>0.0</td>\n",
       "      <td>3.0</td>\n",
       "      <td>2.0</td>\n",
       "      <td>49.27</td>\n",
       "      <td>2019.0</td>\n",
       "      <td>2.0</td>\n",
       "      <td>...</td>\n",
       "      <td>0</td>\n",
       "      <td>0</td>\n",
       "      <td>0</td>\n",
       "      <td>0</td>\n",
       "      <td>0</td>\n",
       "      <td>0</td>\n",
       "      <td>0</td>\n",
       "      <td>0</td>\n",
       "      <td>0</td>\n",
       "      <td>262.0</td>\n",
       "    </tr>\n",
       "  </tbody>\n",
       "</table>\n",
       "<p>268597 rows × 50 columns</p>\n",
       "</div>"
      ],
      "text/plain": [
       "        base_rent  service_charge  total_rent  heating_costs  floor  \\\n",
       "0          595.00           245.0      840.00            NaN    1.0   \n",
       "1          972.60           215.0     1320.65          43.05    0.0   \n",
       "2          396.80            97.0      493.80            NaN    1.0   \n",
       "3          310.00           100.0      460.00          50.00    0.0   \n",
       "4          301.00            60.0      397.00          36.00    3.0   \n",
       "...           ...             ...         ...            ...    ...   \n",
       "268845     430.00            60.0      570.00          80.00    2.0   \n",
       "268846     760.00            50.0      810.00            NaN    1.0   \n",
       "268847     760.00            50.0      880.00          50.00    1.0   \n",
       "268848     365.00           120.0      485.00            NaN    1.0   \n",
       "268849     426.36            80.0      506.36            NaN    0.0   \n",
       "\n",
       "        floors_num  rooms   area  build_year  parking_spaces  ...  \\\n",
       "0              3.0    4.0  86.00      1965.0             1.0  ...   \n",
       "1              4.0    3.0  87.00      2018.0             1.0  ...   \n",
       "2              3.0    2.0  62.00      1958.0             0.0  ...   \n",
       "3              2.0    2.0  55.00      1930.0             0.0  ...   \n",
       "4              3.0    1.5  30.07      1979.0             1.0  ...   \n",
       "...            ...    ...    ...         ...             ...  ...   \n",
       "268845         2.0    3.0  86.00      1939.0             1.0  ...   \n",
       "268846         1.0    3.0  90.00      2019.0             1.0  ...   \n",
       "268847         1.0    3.0  90.00      2019.0             1.0  ...   \n",
       "268848         2.0    2.0  66.00      2019.0             1.0  ...   \n",
       "268849         3.0    2.0  49.27      2019.0             2.0  ...   \n",
       "\n",
       "       type_ground_floor type_half_basement type_loft  type_maisonette  \\\n",
       "0                      1                  0         0                0   \n",
       "1                      1                  0         0                0   \n",
       "2                      1                  0         0                0   \n",
       "3                      1                  0         0                0   \n",
       "4                      0                  0         0                0   \n",
       "...                  ...                ...       ...              ...   \n",
       "268845                 0                  0         0                0   \n",
       "268846                 0                  0         0                0   \n",
       "268847                 0                  0         0                0   \n",
       "268848                 0                  0         0                0   \n",
       "268849                 0                  0         0                0   \n",
       "\n",
       "       type_other  type_penthouse type_raised_ground_floor  type_roof_storey  \\\n",
       "0               0               0                        0                 0   \n",
       "1               0               0                        0                 0   \n",
       "2               0               0                        0                 0   \n",
       "3               0               0                        0                 0   \n",
       "4               0               0                        0                 0   \n",
       "...           ...             ...                      ...               ...   \n",
       "268845          0               0                        0                 1   \n",
       "268846          0               0                        0                 0   \n",
       "268847          0               0                        0                 0   \n",
       "268848          0               0                        0                 1   \n",
       "268849          0               0                        0                 0   \n",
       "\n",
       "        type_terraced_flat  subregion_rank  \n",
       "0                        0           234.0  \n",
       "1                        0           234.0  \n",
       "2                        0           234.0  \n",
       "3                        0           234.0  \n",
       "4                        0           234.0  \n",
       "...                    ...             ...  \n",
       "268845                   0           262.0  \n",
       "268846                   0           262.0  \n",
       "268847                   0           262.0  \n",
       "268848                   0           262.0  \n",
       "268849                   0           262.0  \n",
       "\n",
       "[268597 rows x 50 columns]"
      ]
     },
     "execution_count": 84,
     "metadata": {},
     "output_type": "execute_result"
    }
   ],
   "source": [
    "df"
   ]
  },
  {
   "cell_type": "code",
   "execution_count": 55,
   "metadata": {},
   "outputs": [
    {
     "data": {
      "text/plain": [
       "array([3, 5, 1, 4, 2, 0], dtype=int64)"
      ]
     },
     "execution_count": 55,
     "metadata": {},
     "output_type": "execute_result"
    }
   ],
   "source": [
    "df.condition.unique()"
   ]
  },
  {
   "cell_type": "markdown",
   "metadata": {},
   "source": [
    "## Selecting model data"
   ]
  },
  {
   "cell_type": "code",
   "execution_count": 56,
   "metadata": {},
   "outputs": [],
   "source": [
    "drop_cols = ['base_rent', 'service_charge', 'total_rent', 'heating_costs',\"subregion\",\"city\"] + cat_cols"
   ]
  },
  {
   "cell_type": "code",
   "execution_count": 112,
   "metadata": {},
   "outputs": [],
   "source": [
    "df = df.query(\"total_rent>100 and total_rent<2000\")"
   ]
  },
  {
   "cell_type": "code",
   "execution_count": 131,
   "metadata": {},
   "outputs": [],
   "source": [
    "df.to_csv(\"data/German_rentals_model_input.csv\", index=False)"
   ]
  },
  {
   "cell_type": "code",
   "execution_count": 113,
   "metadata": {},
   "outputs": [],
   "source": [
    "X = df.drop(columns = drop_cols )"
   ]
  },
  {
   "cell_type": "code",
   "execution_count": 114,
   "metadata": {},
   "outputs": [
    {
     "data": {
      "text/plain": [
       "(259200, 39)"
      ]
     },
     "execution_count": 114,
     "metadata": {},
     "output_type": "execute_result"
    }
   ],
   "source": [
    "X.shape"
   ]
  },
  {
   "cell_type": "code",
   "execution_count": 129,
   "metadata": {},
   "outputs": [
    {
     "data": {
      "text/plain": [
       "Index(['base_rent', 'service_charge', 'total_rent', 'heating_costs', 'floor',\n",
       "       'floors_num', 'rooms', 'area', 'build_year', 'parking_spaces', 'region',\n",
       "       'subregion', 'city', 'condition', 'type', 'interior_quality',\n",
       "       'heating_type', 'pets_allowed', 'newly_constructed', 'balcony',\n",
       "       'kitchen', 'lift', 'garden', 'region_Baden_Württemberg',\n",
       "       'region_Bayern', 'region_Berlin', 'region_Brandenburg', 'region_Bremen',\n",
       "       'region_Hamburg', 'region_Hessen', 'region_Mecklenburg_Vorpommern',\n",
       "       'region_Niedersachsen', 'region_Nordrhein_Westfalen',\n",
       "       'region_Rheinland_Pfalz', 'region_Saarland', 'region_Sachsen',\n",
       "       'region_Sachsen_Anhalt', 'region_Schleswig_Holstein',\n",
       "       'region_Thüringen', 'type_apartment', 'type_ground_floor',\n",
       "       'type_half_basement', 'type_loft', 'type_maisonette', 'type_other',\n",
       "       'type_penthouse', 'type_raised_ground_floor', 'type_roof_storey',\n",
       "       'type_terraced_flat', 'subregion_rank'],\n",
       "      dtype='object')"
      ]
     },
     "execution_count": 129,
     "metadata": {},
     "output_type": "execute_result"
    }
   ],
   "source": [
    "df.columns"
   ]
  },
  {
   "cell_type": "code",
   "execution_count": 116,
   "metadata": {},
   "outputs": [],
   "source": [
    "y = df.total_rent"
   ]
  },
  {
   "cell_type": "code",
   "execution_count": 117,
   "metadata": {},
   "outputs": [],
   "source": [
    "#y = np.asarray(y).reshape(-1,1)"
   ]
  },
  {
   "cell_type": "code",
   "execution_count": 118,
   "metadata": {},
   "outputs": [],
   "source": [
    "X_train, X_test, y_train, y_test = train_test_split(X, y, test_size=0.2, random_state=42)"
   ]
  },
  {
   "cell_type": "code",
   "execution_count": 119,
   "metadata": {},
   "outputs": [],
   "source": [
    "X_test.reset_index(drop=True,inplace=True)\n",
    "X_train.reset_index(drop=True,inplace=True)"
   ]
  },
  {
   "cell_type": "code",
   "execution_count": 120,
   "metadata": {},
   "outputs": [
    {
     "data": {
      "text/plain": [
       "136836    1010.00\n",
       "6655       505.00\n",
       "194360     425.00\n",
       "256085     450.00\n",
       "257887     550.00\n",
       "           ...   \n",
       "268828     607.00\n",
       "109999     337.00\n",
       "139253     960.00\n",
       "154384     517.59\n",
       "128832     510.00\n",
       "Name: total_rent, Length: 207360, dtype: float64"
      ]
     },
     "execution_count": 120,
     "metadata": {},
     "output_type": "execute_result"
    }
   ],
   "source": [
    "y_train"
   ]
  },
  {
   "cell_type": "markdown",
   "metadata": {},
   "source": [
    "# Initial model"
   ]
  },
  {
   "cell_type": "code",
   "execution_count": 121,
   "metadata": {},
   "outputs": [],
   "source": [
    "rfr = RandomForestRegressor(verbose=True, n_estimators=50)"
   ]
  },
  {
   "cell_type": "code",
   "execution_count": 122,
   "metadata": {},
   "outputs": [
    {
     "name": "stderr",
     "output_type": "stream",
     "text": [
      "[Parallel(n_jobs=1)]: Using backend SequentialBackend with 1 concurrent workers.\n",
      "[Parallel(n_jobs=1)]: Done  50 out of  50 | elapsed:  1.5min finished\n"
     ]
    },
    {
     "data": {
      "text/plain": [
       "RandomForestRegressor(bootstrap=True, ccp_alpha=0.0, criterion='mse',\n",
       "                      max_depth=None, max_features='auto', max_leaf_nodes=None,\n",
       "                      max_samples=None, min_impurity_decrease=0.0,\n",
       "                      min_impurity_split=None, min_samples_leaf=1,\n",
       "                      min_samples_split=2, min_weight_fraction_leaf=0.0,\n",
       "                      n_estimators=50, n_jobs=None, oob_score=False,\n",
       "                      random_state=None, verbose=True, warm_start=False)"
      ]
     },
     "execution_count": 122,
     "metadata": {},
     "output_type": "execute_result"
    }
   ],
   "source": [
    "rfr.fit(X_train, y_train)"
   ]
  },
  {
   "cell_type": "code",
   "execution_count": 123,
   "metadata": {},
   "outputs": [
    {
     "name": "stderr",
     "output_type": "stream",
     "text": [
      "[Parallel(n_jobs=1)]: Using backend SequentialBackend with 1 concurrent workers.\n",
      "[Parallel(n_jobs=1)]: Done  50 out of  50 | elapsed:    5.1s finished\n"
     ]
    },
    {
     "data": {
      "text/plain": [
       "0.9816467501764679"
      ]
     },
     "execution_count": 123,
     "metadata": {},
     "output_type": "execute_result"
    }
   ],
   "source": [
    "rfr.score(X_train, y_train)"
   ]
  },
  {
   "cell_type": "code",
   "execution_count": 124,
   "metadata": {},
   "outputs": [
    {
     "name": "stderr",
     "output_type": "stream",
     "text": [
      "[Parallel(n_jobs=1)]: Using backend SequentialBackend with 1 concurrent workers.\n",
      "[Parallel(n_jobs=1)]: Done  50 out of  50 | elapsed:    1.2s finished\n"
     ]
    },
    {
     "data": {
      "text/plain": [
       "0.8785751489546832"
      ]
     },
     "execution_count": 124,
     "metadata": {},
     "output_type": "execute_result"
    }
   ],
   "source": [
    "rfr.score(X_test.values, y_test.values)"
   ]
  },
  {
   "cell_type": "code",
   "execution_count": 125,
   "metadata": {},
   "outputs": [
    {
     "data": {
      "text/plain": [
       "0          840.00\n",
       "1         1320.65\n",
       "2          493.80\n",
       "3          460.00\n",
       "4          397.00\n",
       "           ...   \n",
       "268845     570.00\n",
       "268846     810.00\n",
       "268847     880.00\n",
       "268848     485.00\n",
       "268849     506.36\n",
       "Name: total_rent, Length: 259200, dtype: float64"
      ]
     },
     "execution_count": 125,
     "metadata": {},
     "output_type": "execute_result"
    }
   ],
   "source": [
    "df.total_rent"
   ]
  },
  {
   "cell_type": "code",
   "execution_count": 126,
   "metadata": {},
   "outputs": [],
   "source": [
    "from sklearn.metrics import r2_score"
   ]
  },
  {
   "cell_type": "code",
   "execution_count": 100,
   "metadata": {},
   "outputs": [
    {
     "name": "stderr",
     "output_type": "stream",
     "text": [
      "[Parallel(n_jobs=1)]: Using backend SequentialBackend with 1 concurrent workers.\n",
      "[Parallel(n_jobs=1)]: Done  50 out of  50 | elapsed:    1.3s finished\n"
     ]
    }
   ],
   "source": [
    "y_pred = rfr.predict(X_test)"
   ]
  },
  {
   "cell_type": "code",
   "execution_count": 101,
   "metadata": {},
   "outputs": [
    {
     "data": {
      "text/plain": [
       "-0.0004267064414489319"
      ]
     },
     "execution_count": 101,
     "metadata": {},
     "output_type": "execute_result"
    }
   ],
   "source": [
    "r2_score(y_pred, y_test)"
   ]
  },
  {
   "cell_type": "code",
   "execution_count": 102,
   "metadata": {},
   "outputs": [
    {
     "data": {
      "text/plain": [
       "RandomForestRegressor(bootstrap=True, ccp_alpha=0.0, criterion='mse',\n",
       "                      max_depth=None, max_features='auto', max_leaf_nodes=None,\n",
       "                      max_samples=None, min_impurity_decrease=0.0,\n",
       "                      min_impurity_split=None, min_samples_leaf=1,\n",
       "                      min_samples_split=2, min_weight_fraction_leaf=0.0,\n",
       "                      n_estimators=50, n_jobs=None, oob_score=False,\n",
       "                      random_state=None, verbose=True, warm_start=False)"
      ]
     },
     "execution_count": 102,
     "metadata": {},
     "output_type": "execute_result"
    }
   ],
   "source": [
    "rfr"
   ]
  },
  {
   "cell_type": "code",
   "execution_count": 103,
   "metadata": {},
   "outputs": [],
   "source": [
    "params = {\"bootstrap\":True, \"ccp_alpha\":1.0, \"max_depth\":5, \"max_features\":5}"
   ]
  },
  {
   "cell_type": "code",
   "execution_count": 104,
   "metadata": {},
   "outputs": [
    {
     "data": {
      "text/plain": [
       "RandomForestRegressor(bootstrap=True, ccp_alpha=1.0, criterion='mse',\n",
       "                      max_depth=5, max_features=5, max_leaf_nodes=None,\n",
       "                      max_samples=None, min_impurity_decrease=0.0,\n",
       "                      min_impurity_split=None, min_samples_leaf=1,\n",
       "                      min_samples_split=2, min_weight_fraction_leaf=0.0,\n",
       "                      n_estimators=50, n_jobs=None, oob_score=False,\n",
       "                      random_state=None, verbose=True, warm_start=False)"
      ]
     },
     "execution_count": 104,
     "metadata": {},
     "output_type": "execute_result"
    }
   ],
   "source": [
    "rfr.set_params(**params)"
   ]
  },
  {
   "cell_type": "markdown",
   "metadata": {},
   "source": [
    "# Hyper parameter optimization"
   ]
  },
  {
   "cell_type": "code",
   "execution_count": 76,
   "metadata": {},
   "outputs": [],
   "source": [
    "def train_evaluate_CatBoost(X_train, y_train, X_test, y_test, params):\n",
    "    model =  model.set_params(**params)\n",
    "    model.fit(X_train, y_train, eval_set = (X_test.values, y_test), cat_features = cat_cols,)\n",
    "    score = calculate_rmse(model, X_test, y_test)\n",
    "    print(score)\n",
    "    return score"
   ]
  },
  {
   "cell_type": "code",
   "execution_count": null,
   "metadata": {},
   "outputs": [],
   "source": []
  },
  {
   "cell_type": "code",
   "execution_count": null,
   "metadata": {},
   "outputs": [],
   "source": []
  }
 ],
 "metadata": {
  "kernelspec": {
   "display_name": "Python 3",
   "language": "python",
   "name": "python3"
  },
  "language_info": {
   "codemirror_mode": {
    "name": "ipython",
    "version": 3
   },
   "file_extension": ".py",
   "mimetype": "text/x-python",
   "name": "python",
   "nbconvert_exporter": "python",
   "pygments_lexer": "ipython3",
   "version": "3.7.3"
  },
  "toc": {
   "base_numbering": 1,
   "nav_menu": {},
   "number_sections": true,
   "sideBar": true,
   "skip_h1_title": false,
   "title_cell": "Table of Contents",
   "title_sidebar": "Contents",
   "toc_cell": false,
   "toc_position": {},
   "toc_section_display": true,
   "toc_window_display": false
  }
 },
 "nbformat": 4,
 "nbformat_minor": 2
}
