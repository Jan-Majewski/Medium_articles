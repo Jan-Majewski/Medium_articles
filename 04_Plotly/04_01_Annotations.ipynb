{
 "cells": [
  {
   "cell_type": "code",
   "execution_count": 1,
   "metadata": {},
   "outputs": [
    {
     "data": {
      "text/html": [
       "        <script type=\"text/javascript\">\n",
       "        window.PlotlyConfig = {MathJaxConfig: 'local'};\n",
       "        if (window.MathJax) {MathJax.Hub.Config({SVG: {font: \"STIX-Web\"}});}\n",
       "        if (typeof require !== 'undefined') {\n",
       "        require.undef(\"plotly\");\n",
       "        requirejs.config({\n",
       "            paths: {\n",
       "                'plotly': ['https://cdn.plot.ly/plotly-latest.min']\n",
       "            }\n",
       "        });\n",
       "        require(['plotly'], function(Plotly) {\n",
       "            window._Plotly = Plotly;\n",
       "        });\n",
       "        }\n",
       "        </script>\n",
       "        "
      ]
     },
     "metadata": {},
     "output_type": "display_data"
    }
   ],
   "source": [
    "# Cufflinks wrapper on plotly\n",
    "import cufflinks\n",
    "from IPython.core.interactiveshell import InteractiveShell\n",
    "InteractiveShell.ast_node_interactivity = 'all'\n",
    "\n",
    "from plotly.offline import iplot\n",
    "cufflinks.go_offline()\n",
    "\n",
    "# Set global theme\n",
    "\n",
    "\n",
    "import plotly.graph_objects as go\n",
    "\n",
    "import pandas as pd, numpy as np\n",
    "\n"
   ]
  },
  {
   "cell_type": "markdown",
   "metadata": {},
   "source": [
    "## Data inputs"
   ]
  },
  {
   "cell_type": "code",
   "execution_count": 2,
   "metadata": {},
   "outputs": [
    {
     "ename": "NameError",
     "evalue": "name 'df' is not defined",
     "output_type": "error",
     "traceback": [
      "\u001b[1;31m---------------------------------------------------------------------------\u001b[0m",
      "\u001b[1;31mNameError\u001b[0m                                 Traceback (most recent call last)",
      "\u001b[1;32m<ipython-input-2-159b8ef87895>\u001b[0m in \u001b[0;36m<module>\u001b[1;34m\u001b[0m\n\u001b[1;32m----> 1\u001b[1;33m \u001b[0mdf_monthly\u001b[0m \u001b[1;33m=\u001b[0m \u001b[0mdf\u001b[0m\u001b[1;33m.\u001b[0m\u001b[0mquery\u001b[0m\u001b[1;33m(\u001b[0m\u001b[1;34m\"Area<60\"\u001b[0m\u001b[1;33m)\u001b[0m\u001b[1;33m.\u001b[0m\u001b[0mgroupby\u001b[0m\u001b[1;33m(\u001b[0m\u001b[1;34m\"year_month\"\u001b[0m\u001b[1;33m,\u001b[0m\u001b[0mas_index\u001b[0m\u001b[1;33m=\u001b[0m\u001b[1;32mFalse\u001b[0m\u001b[1;33m)\u001b[0m\u001b[1;33m.\u001b[0m\u001b[0mtotal_monthly_price\u001b[0m\u001b[1;33m.\u001b[0m\u001b[0mmean\u001b[0m\u001b[1;33m(\u001b[0m\u001b[1;33m)\u001b[0m\u001b[1;33m\u001b[0m\u001b[1;33m\u001b[0m\u001b[0m\n\u001b[0m",
      "\u001b[1;31mNameError\u001b[0m: name 'df' is not defined"
     ]
    }
   ],
   "source": [
    "df_monthly = df.query(\"Area<60\").groupby(\"year_month\",as_index=False).total_monthly_price.mean()"
   ]
  },
  {
   "cell_type": "code",
   "execution_count": null,
   "metadata": {},
   "outputs": [],
   "source": [
    "df_monthly.to_csv(\"monthly_rent.csv\",index=False)"
   ]
  },
  {
   "cell_type": "code",
   "execution_count": null,
   "metadata": {},
   "outputs": [],
   "source": [
    "df_monthly = pd.read_csv(\"monthly_rent.csv\")"
   ]
  },
  {
   "cell_type": "code",
   "execution_count": null,
   "metadata": {},
   "outputs": [],
   "source": [
    "df_monthly[\"offers\"] = df.query(\"Area<60\").groupby(\"year_month\").total_monthly_price.count().values\n",
    "df_monthly[\"area\"] = df.query(\"Area<60\").groupby(\"year_month\").Area.mean().values"
   ]
  },
  {
   "cell_type": "code",
   "execution_count": null,
   "metadata": {},
   "outputs": [],
   "source": [
    "df_monthly[\"change\"] = df_monthly.total_monthly_price.pct_change()\n",
    "df_monthly[\"change\"] = df_monthly[\"change\"].fillna(0)*100"
   ]
  },
  {
   "cell_type": "markdown",
   "metadata": {},
   "source": [
    "# Line chart"
   ]
  },
  {
   "cell_type": "markdown",
   "metadata": {},
   "source": [
    "## Basic line chart"
   ]
  },
  {
   "cell_type": "code",
   "execution_count": null,
   "metadata": {},
   "outputs": [],
   "source": [
    "trace0=go.Scatter(\n",
    "            x=df_monthly.year_month,\n",
    "            y=df_monthly.total_monthly_price,\n",
    "            mode='lines',\n",
    "            marker=dict(\n",
    "            color=\"blue\",\n",
    "            size=5\n",
    "            \n",
    "            ),\n",
    "        name=\"mean\",\n",
    "\n",
    "        )\n",
    "\n",
    "data=[trace0]\n",
    "    \n",
    "figure=go.Figure(\n",
    "    data=data,\n",
    "    layout=go.Layout(\n",
    "        title=\"Average monthly rent\",\n",
    "            yaxis=dict(title=\"Rent [PLN]\"),\n",
    "        xaxis=dict(title=\"Month\",type=\"category\")\n",
    "\n",
    "    \n",
    "    ))\n",
    "iplot(figure)\n",
    "\n"
   ]
  },
  {
   "cell_type": "markdown",
   "metadata": {},
   "source": [
    "## Line chart with annotation added"
   ]
  },
  {
   "cell_type": "code",
   "execution_count": null,
   "metadata": {},
   "outputs": [],
   "source": [
    "trace0=go.Scatter(\n",
    "            x=df_monthly.year_month,\n",
    "            y=df_monthly.total_monthly_price,\n",
    "            mode='lines',\n",
    "            marker=dict(\n",
    "            color=\"blue\",\n",
    "            size=5,\n",
    "          \n",
    "            \n",
    "            ),\n",
    "        name=\"mean\",\n",
    "\n",
    "    #We can modify text and shown data in the text property\n",
    "        text=['Mean monthly price: {} <br>monthly change {}% <br><br>Offers count: {}<br>Avg Area: {}'\\\n",
    "                              .format(df_monthly.total_monthly_price[i],\n",
    "                                      df_monthly.change[i],\n",
    "                                      df_monthly.offers[i],\n",
    "                                      df_monthly.area[i],\n",
    "                                     ) for i in range(0, df_monthly.shape[0])],\n",
    "\n",
    "        )\n",
    "\n",
    "data=[trace0]\n",
    "    \n",
    "figure=go.Figure(\n",
    "    data=data,\n",
    "    layout=go.Layout(\n",
    "       title=\"Average monthly rent\",\n",
    "            yaxis=dict(title=\"Rent [PLN]\"),\n",
    "        xaxis=dict(title=\"Month\",type=\"category\")\n",
    "\n",
    "    \n",
    "    ))\n",
    "iplot(figure)\n",
    "\n"
   ]
  },
  {
   "cell_type": "markdown",
   "metadata": {},
   "source": [
    "## Improved annotation formatting"
   ]
  },
  {
   "cell_type": "code",
   "execution_count": null,
   "metadata": {},
   "outputs": [],
   "source": [
    "trace0=go.Scatter(\n",
    "            x=df_monthly.year_month,\n",
    "            y=df_monthly.total_monthly_price,\n",
    "            hovertemplate= '%{text}',\n",
    "            mode='lines',\n",
    "            marker=dict(\n",
    "            color=\"blue\",\n",
    "\n",
    "                \n",
    "          \n",
    "            \n",
    "            ),\n",
    "            name=\"\",\n",
    "    \n",
    "\n",
    "    \n",
    "        text=['<b>Mean monthly price: {:.0f} </b><br>monthly change {:.1f}% <br><br>Offers count: {:.0f}<br>Avg Area: {:.2f}'\\\n",
    "                              .format(df_monthly.total_monthly_price[i],\n",
    "                                      df_monthly.change[i],\n",
    "                                      df_monthly.offers[i],\n",
    "                                      df_monthly.area[i],\n",
    "                                     ) for i in range(0, df_monthly.shape[0])],\n",
    "\n",
    "        )\n",
    "\n",
    "data=[trace0]\n",
    "    \n",
    "figure=go.Figure(\n",
    "    data=data,\n",
    "    layout=go.Layout(\n",
    "        title=\"<b>Average monthly rent\",\n",
    "            yaxis=dict(title=\"<b>Rent [PLN]\"),\n",
    "        xaxis=dict(title=\"<b>Month\",type=\"category\")\n",
    "\n",
    "    \n",
    "    ))\n",
    "iplot(figure)\n"
   ]
  },
  {
   "cell_type": "markdown",
   "metadata": {},
   "source": [
    "## Adding size and color to show 2 additional dimensions"
   ]
  },
  {
   "cell_type": "code",
   "execution_count": null,
   "metadata": {},
   "outputs": [],
   "source": [
    "custom_scale=[\n",
    "    [0, 'rgb(192,0,0)'],\n",
    "    [0.25,'rgb(255,0,0)'],\n",
    "    [0.5,'rgb(255,255,0)'],\n",
    "    [0.75,'rgb(146,208,80)'],\n",
    "    [1,'rgb(84,130,53)'], \n",
    "             ]"
   ]
  },
  {
   "cell_type": "code",
   "execution_count": null,
   "metadata": {},
   "outputs": [],
   "source": [
    "trace0=go.Scatter(\n",
    "            x=df_monthly.year_month,\n",
    "            y=df_monthly.total_monthly_price,\n",
    "            hovertemplate= '%{text}',\n",
    "            \n",
    "            mode='lines+markers',\n",
    "            # Line style\n",
    "            line=dict(color=\"grey\", dash=\"dash\"),\n",
    "            # Marker style\n",
    "            marker=dict(\n",
    "                    color=df_monthly.change,\n",
    "                    colorscale = custom_scale,\n",
    "                    # Limiting color ranges for better readibility\n",
    "                    cauto=False,\n",
    "                    cmin=-1,\n",
    "                    cmax=1,\n",
    "                    # Setting size based on offers count\n",
    "                    size=df_monthly.offers/500,opacity=1,\n",
    "\n",
    "                    showscale=True,\n",
    "                        #Adding title to color legend\n",
    "                        colorbar=dict(title=\"<b>monthly change<br> [%] <br>\")\n",
    "                    ),\n",
    "            name=\"\",\n",
    "        # Creating text for annotations\n",
    "        text=['<b>Mean monthly price: {:.0f} </b><br>monthly change {:.1f}% <br><br>Offers count: {:.0f}<br>Avg Area: {:.2f}'\\\n",
    "                              .format(df_monthly.total_monthly_price[i],\n",
    "                                      df_monthly.change[i],\n",
    "                                      df_monthly.offers[i],\n",
    "                                      df_monthly.area[i],\n",
    "                                     ) for i in range(0, df_monthly.shape[0])],\n",
    "        )\n",
    "\n",
    "\n",
    "data=[trace0]\n",
    "    \n",
    "figure=go.Figure(\n",
    "    data=data,\n",
    "    layout=go.Layout(\n",
    "        title=\"<b>Average monthly rent</b><br>line=rent, size=offers count, color=monthly change\",\n",
    "            yaxis=dict(title=\"<b>Rent [PLN]\"),\n",
    "        xaxis=dict(title=\"<b>Month\",type=\"category\")\n",
    "\n",
    "    \n",
    "    ))\n",
    "\n",
    "\n",
    "iplot(figure)\n",
    "\n"
   ]
  },
  {
   "cell_type": "markdown",
   "metadata": {},
   "source": [
    "## Advanced trend"
   ]
  },
  {
   "cell_type": "code",
   "execution_count": null,
   "metadata": {},
   "outputs": [],
   "source": [
    "df_monthly_dtr = pd.read_csv(\"monthly_rent_by_district.csv\")"
   ]
  },
  {
   "cell_type": "code",
   "execution_count": null,
   "metadata": {},
   "outputs": [],
   "source": [
    "df_monthly_dtr[\"offers\"] = df.query(\"Area<60\").groupby([\"year_month\",\"district\"]).total_monthly_price.count().values\n",
    "df_monthly_dtr[\"mean_Area\"] =  df.query(\"Area<60\").groupby([\"year_month\",\"district\"]).Area.mean().values"
   ]
  },
  {
   "cell_type": "code",
   "execution_count": null,
   "metadata": {},
   "outputs": [],
   "source": [
    "df_monthly_dtr[\"monthly_offers\"] = df_monthly_dtr.groupby('year_month')['offers'].transform(sum)"
   ]
  },
  {
   "cell_type": "code",
   "execution_count": null,
   "metadata": {},
   "outputs": [],
   "source": [
    "df_monthly_dtr[\"offers_share\"] = df_monthly_dtr.offers  / df_monthly_dtr.monthly_offers *100"
   ]
  },
  {
   "cell_type": "code",
   "execution_count": null,
   "metadata": {},
   "outputs": [],
   "source": [
    "df_monthly_dtr.sort_values(by=\"year_month\",inplace=True)\n",
    "df_monthly_dtr.reset_index(inplace=True, drop=True)"
   ]
  },
  {
   "cell_type": "code",
   "execution_count": null,
   "metadata": {},
   "outputs": [],
   "source": [
    "df_monthly_dtr[\"change\"]=df_monthly_dtr.groupby(\"district\").total_monthly_price.pct_change()*100\n",
    "df_monthly_dtr[\"change\"]=df_monthly_dtr[\"change\"].fillna(0)"
   ]
  },
  {
   "cell_type": "code",
   "execution_count": null,
   "metadata": {},
   "outputs": [],
   "source": [
    "top_5_districts = df_monthly_dtr.groupby(\"district\", as_index=False).sum().sort_values(by=\"offers\", ascending=False).district.unique()[:5]"
   ]
  },
  {
   "cell_type": "code",
   "execution_count": null,
   "metadata": {},
   "outputs": [],
   "source": [
    "data=[]\n",
    "for dtr in top_5_districts :\n",
    "    df_temp = df_monthly_dtr.query(\"district=='{}'\".format(dtr))\n",
    "    df_temp.reset_index(inplace=True, drop=True)\n",
    "    \n",
    "    trace=go.Scatter(\n",
    "            x=df_temp.year_month,\n",
    "            y=df_temp.total_monthly_price,\n",
    "            hovertemplate= '%{text}',\n",
    "            showlegend=False,\n",
    "            mode='lines+markers',\n",
    "            line=dict(color=\"grey\", dash=\"dash\"),\n",
    "            marker=dict(\n",
    "            color=df_temp.change,\n",
    "            colorscale = custom_scale,\n",
    "            cauto=False,\n",
    "            cmin=-1,\n",
    "            cmax=1,\n",
    "            size=df_temp.offers_share,opacity=1,\n",
    "\n",
    "                showscale=True,\n",
    "                colorbar=dict(title=\"<b>monthly change<br> [%] <br>\")\n",
    "             \n",
    "        \n",
    "            \n",
    "            ),\n",
    "            name=\"\",\n",
    "    \n",
    "        text=['''<b>District: {}<br>Mean monthly price: {:.0f}</b></br><br>Change from last month {:.2f}%<br>Offers count: {:.0f}<br>District share in all offers: {:.0f}%'''\\\n",
    "                              .format(df_temp.district[i],\n",
    "                                      df_temp.total_monthly_price[i],\n",
    "                                       df_temp.change[i],\n",
    "                                      df_temp.offers[i],\n",
    "                                         df_temp.offers_share[i],\n",
    "                                     ) for i in range(0, df_temp.shape[0])],\n",
    "\n",
    "        )\n",
    "    \n",
    "    \n",
    "    data.append(trace)\n",
    "\n",
    "# Adding text trace to show district names next to first point of the line graph\n",
    "names_df = df_monthly_dtr[df_monthly_dtr.district.apply(lambda x: x in top_5_districts)].query(\"year_month=='2020-07'\")\n",
    "names_df.reset_index(inplace=True, drop=True)\n",
    "\n",
    "dtr_names_trace = go.Scatter(\n",
    "            x=names_df.year_month,\n",
    "            y=names_df.total_monthly_price,\n",
    "            text = names_df.district,\n",
    "            mode=\"text+markers\",\n",
    "            textposition=\"top center\",\n",
    "            hoverinfo=\"skip\",\n",
    "            showlegend=False,\n",
    "            marker=dict(\n",
    "            \n",
    "                size=names_df.offers_share,opacity=0)\n",
    "            \n",
    "\n",
    "        \n",
    "            \n",
    "            )\n",
    "\n",
    "data.append(dtr_names_trace)\n",
    "    \n",
    "figure=go.Figure(\n",
    "data=data,\n",
    "layout=go.Layout(\n",
    "        title=\"<b>Average monthly rent by District</b><br>line=rent, size=districts offers share , color=monthly change\",\n",
    "            yaxis=dict(title=\"<b>Rent [PLN]\"),\n",
    "        xaxis=dict(title=\"<b>Month\",type=\"category\")\n",
    "\n",
    "    \n",
    "    ))\n",
    "\n",
    "\n",
    "iplot(figure)\n",
    "    \n",
    "    "
   ]
  },
  {
   "cell_type": "code",
   "execution_count": null,
   "metadata": {},
   "outputs": [],
   "source": []
  }
 ],
 "metadata": {
  "kernelspec": {
   "display_name": "Python 3",
   "language": "python",
   "name": "python3"
  },
  "language_info": {
   "codemirror_mode": {
    "name": "ipython",
    "version": 3
   },
   "file_extension": ".py",
   "mimetype": "text/x-python",
   "name": "python",
   "nbconvert_exporter": "python",
   "pygments_lexer": "ipython3",
   "version": "3.7.3"
  },
  "toc": {
   "base_numbering": 1,
   "nav_menu": {},
   "number_sections": true,
   "sideBar": true,
   "skip_h1_title": false,
   "title_cell": "Table of Contents",
   "title_sidebar": "Contents",
   "toc_cell": false,
   "toc_position": {},
   "toc_section_display": true,
   "toc_window_display": true
  }
 },
 "nbformat": 4,
 "nbformat_minor": 2
}
